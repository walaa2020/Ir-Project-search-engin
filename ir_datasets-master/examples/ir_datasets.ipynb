{
  "nbformat": 4,
  "nbformat_minor": 0,
  "metadata": {
    "colab": {
      "name": "ir-datasets.ipynb",
      "provenance": []
    },
    "kernelspec": {
      "name": "python3",
      "display_name": "Python 3"
    }
  },
  "cells": [
    {
      "cell_type": "markdown",
      "metadata": {
        "id": "snL2s_xoHpph"
      },
      "source": [
        "# ir_datasets - Tutorial"
      ]
    },
    {
      "cell_type": "markdown",
      "metadata": {
        "id": "n7mY16MRH0hx"
      },
      "source": [
        "## Getting Started\n",
        "\n",
        "We'll start out by installing the package. The package is available on pypi,\n",
        "so you can install it with your favorite package manager."
      ]
    },
    {
      "cell_type": "code",
      "metadata": {
        "colab": {
          "base_uri": "https://localhost:8080/"
        },
        "id": "M_6mg0PbHaFD",
        "outputId": "0764869d-bb51-4a9e-edb2-35c9cf56a876"
      },
      "source": [
        "!pip install ir_datasets"
      ],
      "execution_count": 1,
      "outputs": [
        {
          "output_type": "stream",
          "text": [
            "Requirement already satisfied: ir_datasets in /usr/local/lib/python3.6/dist-packages (0.2.0)\n",
            "Requirement already satisfied: pyyaml>=5.3.1 in /usr/local/lib/python3.6/dist-packages (from ir_datasets) (5.4.1)\n",
            "Requirement already satisfied: trec-car-tools>=2.5.3 in /usr/local/lib/python3.6/dist-packages (from ir_datasets) (2.5.3)\n",
            "Requirement already satisfied: zlib-state>=0.1.3 in /usr/local/lib/python3.6/dist-packages (from ir_datasets) (0.1.3)\n",
            "Requirement already satisfied: requests>=2.22.0 in /usr/local/lib/python3.6/dist-packages (from ir_datasets) (2.23.0)\n",
            "Requirement already satisfied: numpy>=1.18.1 in /usr/local/lib/python3.6/dist-packages (from ir_datasets) (1.19.5)\n",
            "Requirement already satisfied: lxml>=4.5.2 in /usr/local/lib/python3.6/dist-packages (from ir_datasets) (4.6.2)\n",
            "Requirement already satisfied: tqdm>=4.38.0 in /usr/local/lib/python3.6/dist-packages (from ir_datasets) (4.41.1)\n",
            "Requirement already satisfied: lz4>=3.1.1 in /usr/local/lib/python3.6/dist-packages (from ir_datasets) (3.1.3)\n",
            "Requirement already satisfied: beautifulsoup4>=4.4.1 in /usr/local/lib/python3.6/dist-packages (from ir_datasets) (4.6.3)\n",
            "Requirement already satisfied: warc3-wet-clueweb09>=0.2.5 in /usr/local/lib/python3.6/dist-packages (from ir_datasets) (0.2.5)\n",
            "Requirement already satisfied: warc3-wet>=0.2.3 in /usr/local/lib/python3.6/dist-packages (from ir_datasets) (0.2.3)\n",
            "Requirement already satisfied: typing>=3.6.2 in /usr/local/lib/python3.6/dist-packages (from trec-car-tools>=2.5.3->ir_datasets) (3.7.4.3)\n",
            "Requirement already satisfied: cbor>=1.0.0 in /usr/local/lib/python3.6/dist-packages (from trec-car-tools>=2.5.3->ir_datasets) (1.0.0)\n",
            "Requirement already satisfied: urllib3!=1.25.0,!=1.25.1,<1.26,>=1.21.1 in /usr/local/lib/python3.6/dist-packages (from requests>=2.22.0->ir_datasets) (1.24.3)\n",
            "Requirement already satisfied: chardet<4,>=3.0.2 in /usr/local/lib/python3.6/dist-packages (from requests>=2.22.0->ir_datasets) (3.0.4)\n",
            "Requirement already satisfied: certifi>=2017.4.17 in /usr/local/lib/python3.6/dist-packages (from requests>=2.22.0->ir_datasets) (2020.12.5)\n",
            "Requirement already satisfied: idna<3,>=2.5 in /usr/local/lib/python3.6/dist-packages (from requests>=2.22.0->ir_datasets) (2.10)\n"
          ],
          "name": "stdout"
        }
      ]
    },
    {
      "cell_type": "markdown",
      "metadata": {
        "id": "DH_aBA7hIDZ4"
      },
      "source": [
        "You can now load up your favorite dataset. You can find the full listing of datasets [here](https://ir-datasets.com/all.html). Here's an example for `cord19/trec-covid`:"
      ]
    },
    {
      "cell_type": "code",
      "metadata": {
        "id": "dFIuPyqdHVQ0"
      },
      "source": [
        "import ir_datasets\n",
        "dataset = ir_datasets.load('cord19/trec-covid')"
      ],
      "execution_count": 2,
      "outputs": []
    },
    {
      "cell_type": "markdown",
      "metadata": {
        "id": "ILomHf8CIdOf"
      },
      "source": [
        "## Documents\n",
        "\n",
        "`doc` entities map a `doc_id` to one or more text fields.\n",
        "\n",
        "Let's see how many documents are in this collection. The first time you run this command, it will need to download and process the collection, which may take some time:"
      ]
    },
    {
      "cell_type": "code",
      "metadata": {
        "colab": {
          "base_uri": "https://localhost:8080/"
        },
        "id": "v3rCW-JUHpFz",
        "outputId": "c2cba6ee-3f55-4369-de41-17972b570ad8"
      },
      "source": [
        "dataset.docs_count()"
      ],
      "execution_count": 3,
      "outputs": [
        {
          "output_type": "execute_result",
          "data": {
            "text/plain": [
              "192509"
            ]
          },
          "metadata": {
            "tags": []
          },
          "execution_count": 3
        }
      ]
    },
    {
      "cell_type": "markdown",
      "metadata": {
        "id": "bd2f31HzI2s5"
      },
      "source": [
        "Now let's see some docments. You can iterate through the documents in the collection using `docs_iter`. Since there's so many, we'll just look at the top 10:"
      ]
    },
    {
      "cell_type": "code",
      "metadata": {
        "colab": {
          "base_uri": "https://localhost:8080/"
        },
        "id": "odfCkvALHXzz",
        "outputId": "3f4241e6-7828-4fc1-d18b-9610b7874eec"
      },
      "source": [
        "for doc in dataset.docs_iter()[:10]:\n",
        "  print(doc)"
      ],
      "execution_count": 4,
      "outputs": [
        {
          "output_type": "stream",
          "text": [
            "Cord19Doc(doc_id='ug7v899j', title='Clinical features of culture-proven Mycoplasma pneumoniae infections at King Abdulaziz University Hospital, Jeddah, Saudi Arabia', doi='10.1186/1471-2334-1-6', date='2001-07-04', abstract='OBJECTIVE: This retrospective chart review describes the epidemiology and clinical features of 40 patients with culture-proven Mycoplasma pneumoniae infections at King Abdulaziz University Hospital, Jeddah, Saudi Arabia. METHODS: Patients with positive M. pneumoniae cultures from respiratory specimens from January 1997 through December 1998 were identified through the Microbiology records. Charts of patients were reviewed. RESULTS: 40 patients were identified, 33 (82.5%) of whom required admission. Most infections (92.5%) were community-acquired. The infection affected all age groups but was most common in infants (32.5%) and pre-school children (22.5%). It occurred year-round but was most common in the fall (35%) and spring (30%). More than three-quarters of patients (77.5%) had comorbidities. Twenty-four isolates (60%) were associated with pneumonia, 14 (35%) with upper respiratory tract infections, and 2 (5%) with bronchiolitis. Cough (82.5%), fever (75%), and malaise (58.8%) were the most common symptoms, and crepitations (60%), and wheezes (40%) were the most common signs. Most patients with pneumonia had crepitations (79.2%) but only 25% had bronchial breathing. Immunocompromised patients were more likely than non-immunocompromised patients to present with pneumonia (8/9 versus 16/31, P = 0.05). Of the 24 patients with pneumonia, 14 (58.3%) had uneventful recovery, 4 (16.7%) recovered following some complications, 3 (12.5%) died because of M pneumoniae infection, and 3 (12.5%) died due to underlying comorbidities. The 3 patients who died of M pneumoniae pneumonia had other comorbidities. CONCLUSION: our results were similar to published data except for the finding that infections were more common in infants and preschool children and that the mortality rate of pneumonia in patients with comorbidities was high.')\n",
            "Cord19Doc(doc_id='02tnwd4m', title='Nitric oxide: a pro-inflammatory mediator in lung disease?', doi='10.1186/rr14', date='2000-08-15', abstract='Inflammatory diseases of the respiratory tract are commonly associated with elevated production of nitric oxide (NO•) and increased indices of NO• -dependent oxidative stress. Although NO• is known to have anti-microbial, anti-inflammatory and anti-oxidant properties, various lines of evidence support the contribution of NO• to lung injury in several disease models. On the basis of biochemical evidence, it is often presumed that such NO• -dependent oxidations are due to the formation of the oxidant peroxynitrite, although alternative mechanisms involving the phagocyte-derived heme proteins myeloperoxidase and eosinophil peroxidase might be operative during conditions of inflammation. Because of the overwhelming literature on NO• generation and activities in the respiratory tract, it would be beyond the scope of this commentary to review this area comprehensively. Instead, it focuses on recent evidence and concepts of the presumed contribution of NO• to inflammatory diseases of the lung.')\n",
            "Cord19Doc(doc_id='ejv2xln0', title='Surfactant protein-D and pulmonary host defense', doi='10.1186/rr19', date='2000-08-25', abstract='Surfactant protein-D (SP-D) participates in the innate response to inhaled microorganisms and organic antigens, and contributes to immune and inflammatory regulation within the lung. SP-D is synthesized and secreted by alveolar and bronchiolar epithelial cells, but is also expressed by epithelial cells lining various exocrine ducts and the mucosa of the gastrointestinal and genitourinary tracts. SP-D, a collagenous calcium-dependent lectin (or collectin), binds to surface glycoconjugates expressed by a wide variety of microorganisms, and to oligosaccharides associated with the surface of various complex organic antigens. SP-D also specifically interacts with glycoconjugates and other molecules expressed on the surface of macrophages, neutrophils, and lymphocytes. In addition, SP-D binds to specific surfactant-associated lipids and can influence the organization of lipid mixtures containing phosphatidylinositol in vitro. Consistent with these diverse in vitro activities is the observation that SP-D-deficient transgenic mice show abnormal accumulations of surfactant lipids, and respond abnormally to challenge with respiratory viruses and bacterial lipopolysaccharides. The phenotype of macrophages isolated from the lungs of SP-D-deficient mice is altered, and there is circumstantial evidence that abnormal oxidant metabolism and/or increased metalloproteinase expression contributes to the development of emphysema. The expression of SP-D is increased in response to many forms of lung injury, and deficient accumulation of appropriately oligomerized SP-D might contribute to the pathogenesis of a variety of human lung diseases.')\n",
            "Cord19Doc(doc_id='2b73a28n', title='Role of endothelin-1 in lung disease', doi='10.1186/rr44', date='2001-02-22', abstract='Endothelin-1 (ET-1) is a 21 amino acid peptide with diverse biological activity that has been implicated in numerous diseases. ET-1 is a potent mitogen regulator of smooth muscle tone, and inflammatory mediator that may play a key role in diseases of the airways, pulmonary circulation, and inflammatory lung diseases, both acute and chronic. This review will focus on the biology of ET-1 and its role in lung disease.')\n",
            "Cord19Doc(doc_id='9785vg6d', title='Gene expression in epithelial cells in response to pneumovirus infection', doi='10.1186/rr61', date='2001-05-11', abstract='Respiratory syncytial virus (RSV) and pneumonia virus of mice (PVM) are viruses of the family Paramyxoviridae, subfamily pneumovirus, which cause clinically important respiratory infections in humans and rodents, respectively. The respiratory epithelial target cells respond to viral infection with specific alterations in gene expression, including production of chemoattractant cytokines, adhesion molecules, elements that are related to the apoptosis response, and others that remain incompletely understood. Here we review our current understanding of these mucosal responses and discuss several genomic approaches, including differential display reverse transcription-polymerase chain reaction (PCR) and gene array strategies, that will permit us to unravel the nature of these responses in a more complete and systematic manner.')\n",
            "Cord19Doc(doc_id='zjufx4fo', title='Sequence requirements for RNA strand transfer during nidovirus discontinuous subgenomic RNA synthesis', doi='10.1093/emboj/20.24.7220', date='2001-12-17', abstract='Nidovirus subgenomic mRNAs contain a leader sequence derived from the 5′ end of the genome fused to different sequences (‘bodies’) derived from the 3′ end. Their generation involves a unique mechanism of discontinuous subgenomic RNA synthesis that resembles copy-choice RNA recombination. During this process, the nascent RNA strand is transferred from one site in the template to another, during either plus or minus strand synthesis, to yield subgenomic RNA molecules. Central to this process are transcription-regulating sequences (TRSs), which are present at both template sites and ensure the fidelity of strand transfer. Here we present results of a comprehensive co-variation mutagenesis study of equine arteritis virus TRSs, demonstrating that discontinuous RNA synthesis depends not only on base pairing between sense leader TRS and antisense body TRS, but also on the primary sequence of the body TRS. While the leader TRS merely plays a targeting role for strand transfer, the body TRS fulfils multiple functions. The sequences of mRNA leader–body junctions of TRS mutants strongly suggested that the discontinuous step occurs during minus strand synthesis.')\n",
            "Cord19Doc(doc_id='5yhe786e', title='Debate: Transfusing to normal haemoglobin levels will not improve outcome', doi='10.1186/cc987', date='2001-03-08', abstract='Recent evidence suggests that critically ill patients are able to tolerate lower levels of haemoglobin than was previously believed. It is our goal to show that transfusing to a level of 100 g/l does not improve mortality and other clinically important outcomes in a critical care setting. Although many questions remain, many laboratory and clinical studies, including a recent randomized controlled trial (RCT), have established that transfusing to normal haemoglobin concentrations does not improve organ failure and mortality in the critically ill patient. In addition, a restrictive transfusion strategy will reduce exposure to allogeneic transfusions, result in more efficient use of red blood cells (RBCs), save blood overall, and decrease health care costs.')\n",
            "Cord19Doc(doc_id='8zchiykl', title='The 21st International Symposium on Intensive Care and Emergency Medicine, Brussels, Belgium, 20-23 March 2001', doi='10.1186/cc1013', date='2001-05-02', abstract=\"The 21st International Symposium on Intensive Care and Emergency Medicine was dominated by the results of recent clinical trials in sepsis and acute respiratory distress syndrome (ARDS). The promise of extracorporeal liver replacement therapy and noninvasive ventilation were other areas of interest. Ethical issues also received attention. Overall, the 'state of the art' lectures, pro/con debates, seminars and tutorials were of a high standard. The meeting was marked by a sense of renewed enthusiasm that positive progress is occurring in intensive care medicine.\")\n",
            "Cord19Doc(doc_id='8qnrcgnk', title='Heme oxygenase-1 and carbon monoxide in pulmonary medicine', doi='10.1186/1465-9921-4-7', date='2003-08-07', abstract='Heme oxygenase-1 (HO-1), an inducible stress protein, confers cytoprotection against oxidative stress in vitro and in vivo. In addition to its physiological role in heme degradation, HO-1 may influence a number of cellular processes, including growth, inflammation, and apoptosis. By virtue of anti-inflammatory effects, HO-1 limits tissue damage in response to proinflammatory stimuli and prevents allograft rejection after transplantation. The transcriptional upregulation of HO-1 responds to many agents, such as hypoxia, bacterial lipopolysaccharide, and reactive oxygen/nitrogen species. HO-1 and its constitutively expressed isozyme, heme oxygenase-2, catalyze the rate-limiting step in the conversion of heme to its metabolites, bilirubin IXα, ferrous iron, and carbon monoxide (CO). The mechanisms by which HO-1 provides protection most likely involve its enzymatic reaction products. Remarkably, administration of CO at low concentrations can substitute for HO-1 with respect to anti-inflammatory and anti-apoptotic effects, suggesting a role for CO as a key mediator of HO-1 function. Chronic, low-level, exogenous exposure to CO from cigarette smoking contributes to the importance of CO in pulmonary medicine. The implications of the HO-1/CO system in pulmonary diseases will be discussed in this review, with an emphasis on inflammatory states.')\n",
            "Cord19Doc(doc_id='jg13scgo', title='Technical Description of RODS: A Real-time Public Health Surveillance System', doi='10.1197/jamia.m1345', date='2003-09-01', abstract='This report describes the design and implementation of the Real-time Outbreak and Disease Surveillance (RODS) system, a computer-based public health surveillance system for early detection of disease outbreaks. Hospitals send RODS data from clinical encounters over virtual private networks and leased lines using the Health Level 7 (HL7) message protocol. The data are sent in real time. RODS automatically classifies the registration chief complaint from the visit into one of seven syndrome categories using Bayesian classifiers. It stores the data in a relational database, aggregates the data for analysis using data warehousing techniques, applies univariate and multivariate statistical detection algorithms to the data, and alerts users of when the algorithms identify anomalous patterns in the syndrome counts. RODS also has a Web-based user interface that supports temporal and spatial analyses. RODS processes sales of over-the-counter health care products in a similar manner but receives such data in batch mode on a daily basis. RODS was used during the 2002 Winter Olympics and currently operates in two states—Pennsylvania and Utah. It has been and continues to be a resource for implementing, evaluating, and applying new methods of public health surveillance.')\n"
          ],
          "name": "stdout"
        }
      ]
    },
    {
      "cell_type": "markdown",
      "metadata": {
        "id": "lUB0AUfWJESJ"
      },
      "source": [
        "You can see each document is represented as a `Cord19Doc`, which is a `namedtuple`. Named tuples are a light-weight data structure that consists of a pre-defined sequence of named fields.\n",
        "\n",
        "If you want more information aobut what document fields are available in this collection, you can\n",
        "[check the documentation](https://ir-datasets.com/cord19.html#cord19) or inspect the dataset's `docs_cls()`:"
      ]
    },
    {
      "cell_type": "code",
      "metadata": {
        "colab": {
          "base_uri": "https://localhost:8080/"
        },
        "id": "Cej2STMCI_eh",
        "outputId": "55e06f14-390f-4dce-9ba2-576a33c50b6c"
      },
      "source": [
        "dataset.docs_cls()"
      ],
      "execution_count": 5,
      "outputs": [
        {
          "output_type": "execute_result",
          "data": {
            "text/plain": [
              "ir_datasets.datasets.cord19.Cord19Doc"
            ]
          },
          "metadata": {
            "tags": []
          },
          "execution_count": 5
        }
      ]
    },
    {
      "cell_type": "code",
      "metadata": {
        "colab": {
          "base_uri": "https://localhost:8080/"
        },
        "id": "p2BxO7-vJWg7",
        "outputId": "ea763b20-59e6-4d97-b28b-0f7bbabb2f65"
      },
      "source": [
        "dataset.docs_cls()._fields"
      ],
      "execution_count": 6,
      "outputs": [
        {
          "output_type": "execute_result",
          "data": {
            "text/plain": [
              "('doc_id', 'title', 'doi', 'date', 'abstract')"
            ]
          },
          "metadata": {
            "tags": []
          },
          "execution_count": 6
        }
      ]
    },
    {
      "cell_type": "code",
      "metadata": {
        "colab": {
          "base_uri": "https://localhost:8080/"
        },
        "id": "2ORa7nztJXyq",
        "outputId": "a2e836be-ebe4-4f71-f272-2536961ef271"
      },
      "source": [
        "dataset.docs_cls().__annotations__"
      ],
      "execution_count": 7,
      "outputs": [
        {
          "output_type": "execute_result",
          "data": {
            "text/plain": [
              "OrderedDict([('doc_id', str),\n",
              "             ('title', str),\n",
              "             ('doi', str),\n",
              "             ('date', str),\n",
              "             ('abstract', str)])"
            ]
          },
          "metadata": {
            "tags": []
          },
          "execution_count": 7
        }
      ]
    },
    {
      "cell_type": "markdown",
      "metadata": {
        "id": "jwcOyKP5Juct"
      },
      "source": [
        "Did you notice the `[:10]` above? We can do all sorts of fancy slicing on document iterators. Here, we select every other document from the top 10:"
      ]
    },
    {
      "cell_type": "code",
      "metadata": {
        "colab": {
          "base_uri": "https://localhost:8080/"
        },
        "id": "VDYPMpOVJZmM",
        "outputId": "402d5201-ceb9-4bcb-a985-e0052d650994"
      },
      "source": [
        "for doc in dataset.docs_iter()[:10:2]:\n",
        "  print(doc)"
      ],
      "execution_count": 8,
      "outputs": [
        {
          "output_type": "stream",
          "text": [
            "Cord19Doc(doc_id='ug7v899j', title='Clinical features of culture-proven Mycoplasma pneumoniae infections at King Abdulaziz University Hospital, Jeddah, Saudi Arabia', doi='10.1186/1471-2334-1-6', date='2001-07-04', abstract='OBJECTIVE: This retrospective chart review describes the epidemiology and clinical features of 40 patients with culture-proven Mycoplasma pneumoniae infections at King Abdulaziz University Hospital, Jeddah, Saudi Arabia. METHODS: Patients with positive M. pneumoniae cultures from respiratory specimens from January 1997 through December 1998 were identified through the Microbiology records. Charts of patients were reviewed. RESULTS: 40 patients were identified, 33 (82.5%) of whom required admission. Most infections (92.5%) were community-acquired. The infection affected all age groups but was most common in infants (32.5%) and pre-school children (22.5%). It occurred year-round but was most common in the fall (35%) and spring (30%). More than three-quarters of patients (77.5%) had comorbidities. Twenty-four isolates (60%) were associated with pneumonia, 14 (35%) with upper respiratory tract infections, and 2 (5%) with bronchiolitis. Cough (82.5%), fever (75%), and malaise (58.8%) were the most common symptoms, and crepitations (60%), and wheezes (40%) were the most common signs. Most patients with pneumonia had crepitations (79.2%) but only 25% had bronchial breathing. Immunocompromised patients were more likely than non-immunocompromised patients to present with pneumonia (8/9 versus 16/31, P = 0.05). Of the 24 patients with pneumonia, 14 (58.3%) had uneventful recovery, 4 (16.7%) recovered following some complications, 3 (12.5%) died because of M pneumoniae infection, and 3 (12.5%) died due to underlying comorbidities. The 3 patients who died of M pneumoniae pneumonia had other comorbidities. CONCLUSION: our results were similar to published data except for the finding that infections were more common in infants and preschool children and that the mortality rate of pneumonia in patients with comorbidities was high.')\n",
            "Cord19Doc(doc_id='ejv2xln0', title='Surfactant protein-D and pulmonary host defense', doi='10.1186/rr19', date='2000-08-25', abstract='Surfactant protein-D (SP-D) participates in the innate response to inhaled microorganisms and organic antigens, and contributes to immune and inflammatory regulation within the lung. SP-D is synthesized and secreted by alveolar and bronchiolar epithelial cells, but is also expressed by epithelial cells lining various exocrine ducts and the mucosa of the gastrointestinal and genitourinary tracts. SP-D, a collagenous calcium-dependent lectin (or collectin), binds to surface glycoconjugates expressed by a wide variety of microorganisms, and to oligosaccharides associated with the surface of various complex organic antigens. SP-D also specifically interacts with glycoconjugates and other molecules expressed on the surface of macrophages, neutrophils, and lymphocytes. In addition, SP-D binds to specific surfactant-associated lipids and can influence the organization of lipid mixtures containing phosphatidylinositol in vitro. Consistent with these diverse in vitro activities is the observation that SP-D-deficient transgenic mice show abnormal accumulations of surfactant lipids, and respond abnormally to challenge with respiratory viruses and bacterial lipopolysaccharides. The phenotype of macrophages isolated from the lungs of SP-D-deficient mice is altered, and there is circumstantial evidence that abnormal oxidant metabolism and/or increased metalloproteinase expression contributes to the development of emphysema. The expression of SP-D is increased in response to many forms of lung injury, and deficient accumulation of appropriately oligomerized SP-D might contribute to the pathogenesis of a variety of human lung diseases.')\n",
            "Cord19Doc(doc_id='9785vg6d', title='Gene expression in epithelial cells in response to pneumovirus infection', doi='10.1186/rr61', date='2001-05-11', abstract='Respiratory syncytial virus (RSV) and pneumonia virus of mice (PVM) are viruses of the family Paramyxoviridae, subfamily pneumovirus, which cause clinically important respiratory infections in humans and rodents, respectively. The respiratory epithelial target cells respond to viral infection with specific alterations in gene expression, including production of chemoattractant cytokines, adhesion molecules, elements that are related to the apoptosis response, and others that remain incompletely understood. Here we review our current understanding of these mucosal responses and discuss several genomic approaches, including differential display reverse transcription-polymerase chain reaction (PCR) and gene array strategies, that will permit us to unravel the nature of these responses in a more complete and systematic manner.')\n",
            "Cord19Doc(doc_id='5yhe786e', title='Debate: Transfusing to normal haemoglobin levels will not improve outcome', doi='10.1186/cc987', date='2001-03-08', abstract='Recent evidence suggests that critically ill patients are able to tolerate lower levels of haemoglobin than was previously believed. It is our goal to show that transfusing to a level of 100 g/l does not improve mortality and other clinically important outcomes in a critical care setting. Although many questions remain, many laboratory and clinical studies, including a recent randomized controlled trial (RCT), have established that transfusing to normal haemoglobin concentrations does not improve organ failure and mortality in the critically ill patient. In addition, a restrictive transfusion strategy will reduce exposure to allogeneic transfusions, result in more efficient use of red blood cells (RBCs), save blood overall, and decrease health care costs.')\n",
            "Cord19Doc(doc_id='8qnrcgnk', title='Heme oxygenase-1 and carbon monoxide in pulmonary medicine', doi='10.1186/1465-9921-4-7', date='2003-08-07', abstract='Heme oxygenase-1 (HO-1), an inducible stress protein, confers cytoprotection against oxidative stress in vitro and in vivo. In addition to its physiological role in heme degradation, HO-1 may influence a number of cellular processes, including growth, inflammation, and apoptosis. By virtue of anti-inflammatory effects, HO-1 limits tissue damage in response to proinflammatory stimuli and prevents allograft rejection after transplantation. The transcriptional upregulation of HO-1 responds to many agents, such as hypoxia, bacterial lipopolysaccharide, and reactive oxygen/nitrogen species. HO-1 and its constitutively expressed isozyme, heme oxygenase-2, catalyze the rate-limiting step in the conversion of heme to its metabolites, bilirubin IXα, ferrous iron, and carbon monoxide (CO). The mechanisms by which HO-1 provides protection most likely involve its enzymatic reaction products. Remarkably, administration of CO at low concentrations can substitute for HO-1 with respect to anti-inflammatory and anti-apoptotic effects, suggesting a role for CO as a key mediator of HO-1 function. Chronic, low-level, exogenous exposure to CO from cigarette smoking contributes to the importance of CO in pulmonary medicine. The implications of the HO-1/CO system in pulmonary diseases will be discussed in this review, with an emphasis on inflammatory states.')\n"
          ],
          "name": "stdout"
        }
      ]
    },
    {
      "cell_type": "markdown",
      "metadata": {
        "id": "iizcVwqmJ-TW"
      },
      "source": [
        "Or the last 10 documents:"
      ]
    },
    {
      "cell_type": "code",
      "metadata": {
        "colab": {
          "base_uri": "https://localhost:8080/"
        },
        "id": "iVOvbOGOJ4A6",
        "outputId": "ca1daed3-3394-472f-8bbd-60a3e2faf0a3"
      },
      "source": [
        "for doc in dataset.docs_iter()[-10:]:\n",
        "  print(doc)"
      ],
      "execution_count": 9,
      "outputs": [
        {
          "output_type": "stream",
          "text": [
            "Cord19Doc(doc_id='7e8r61e7', title='Can Pediatric COVID-19 Testing Sensitivity Be Improved With Sequential Tests?', doi='10.1213/ane.0000000000004982', date='2020-05-26', abstract='')\n",
            "Cord19Doc(doc_id='r3ud8t8w', title='rAre graphene and graphene-derived products capable of preventing COVID-19 infection?', doi='10.1016/j.mehy.2020.110031', date='2020-06-24', abstract=\"The Severe Acute Respiratory Syndrome CoronaVirus 2 (SARS-CoV-2) causes the new coronavirus disease 2019 (COVID-19). This disease is a severe respiratory tract infection that spread rapidly around the world. In this pandemic situation, the researchers' effort is to understand the targets of the virus, mechanism of their cause, and transmission from animal to human and vice-versa. Therefore, to support COVID-19 research and development, we have proposed approaches based on graphene and graphene-derived nanomaterials against COVID-19.\")\n",
            "Cord19Doc(doc_id='6jittbis', title='Heterogeneity and plasticity of porcine alveolar macrophage and pulmonary interstitial macrophage isolated from healthy pigs in vitro', doi='10.1242/bio.046342', date='2019-10-15', abstract='This study investigated the heterogeneity and plasticity of porcine alveolar macrophages (PAM) and pulmonary interstitial macrophages (IM) isolated from healthy pigs, including phenotype, function and gene expression. Dynamic changes of nitric oxide (NO) levels secreted by PAM and IM with stimulation of different doses of lipopolysaccharide (LPS) were investigated by Griess method, and the viability of the PAM and IM cells was investigated by MTT assay. Flow cytometry, fluorescence quantitative PCR and ELISA techniques were used to measure cell phenotype, gene expression and cytokine secretion, respectively. The PAM and IM cells in normal healthy pigs showed heterogeneity with 95.42±1.51% and 31.99±5.84% of CD163+ macrophage, respectively. The NO level in IM was significantly higher versus PAM after LPS treatment. Consistently, the ratio of Arg I/iNOS in IM was much lower than that in PAM, suggesting that the PAM belong to M2 macrophages and the IM belong to M1 macrophages. The PAM and IM cells in normal healthy pigs also showed plasticity. The Arg I/iNOS ratio and TIMP1/MMP12 ratio were significantly decreased in LPS- or LPS+IFNγ-treated PAM and IM, suggesting that cells were polarized towards M1 macrophages under LPS or LPS+IFNγ stimulation. On the contrary, IL-4 and IL-13 stimulation on PAM and IM lead to M2 polarization. A similar result was found in IL-1β gene expression and TNFα secretion. In conclusion, porcine macrophages have shown heterogeneity and plasticity on polarization under the stimulation of LPS, IFNγ, IL-4 and IL-13.')\n",
            "Cord19Doc(doc_id='kaku49xd', title='Review of Current Advances in Serologic Testing for COVID-19', doi='10.1093/ajcp/aqaa112', date='2020-06-25', abstract='OBJECTIVES: To examine and summarize the current literature on serologic methods for the detection of antibodies to severe acute respiratory syndrome coronavirus 2 (SARS-CoV-2). METHODS: A literature review was performed using searches in databases including PubMed, medRxiv, and bioRxiv. Thirty-two peer-reviewed papers and 23 preprints were examined. RESULTS: The studies included lateral flow immunoassay, enzyme-linked immunosorbent assay, chemiluminescence immunoassay, and neutralizing antibody assays. The use of all major SARS-CoV-2 antigens was demonstrated to have diagnostic value. Assays measuring total antibody reactivity had the highest sensitivity. In addition, all the methods provided opportunities to characterize the humoral immune response by isotype. The combined use of IgM and IgG detection resulted in a higher sensitivity than that observed when detecting either isotype alone. Although IgA was rarely studied, it was also demonstrated to be a sensitive marker of infection, and levels correlated with disease severity and neutralizing activity. CONCLUSIONS: The use of serologic testing, in conjunction with reverse transcription polymerase chain reaction testing, was demonstrated to significantly increase the sensitivity of detection of patients infected with SARS-CoV-2. There was conflicting evidence regarding whether antibody titers correlated with clinical severity. However, preliminary investigations indicated some immunoassays may be a surrogate for the prediction of neutralizing antibody titers and the selection of recovered patients for convalescent serum donation.')\n",
            "Cord19Doc(doc_id='ni94qi4r', title='Liver tests abnormalities in COVID-19: trick or treat?', doi='10.1016/j.jhep.2020.05.033', date='2020-05-27', abstract='')\n",
            "Cord19Doc(doc_id='z4ro6lmh', title='Rapid radiological improvement of COVID-19 pneumonia after treatment with tocilizumab', doi='10.1007/s15010-020-01449-w', date='2020-06-15', abstract='')\n",
            "Cord19Doc(doc_id='hi8k8wvb', title='SARS E protein in phospholipid bilayers: an anomalous X-ray reflectivity study', doi='10.1016/j.physb.2004.11.015', date='2005-02-28', abstract='Abstract We report on an anomalous X-ray reflectivity study to locate a labelled residue of a membrane protein with respect to the lipid bilayer. From such experiments, important constraints on the protein or peptide conformation can be derived. Specifically, our aim is to localize an iodine-labelled phenylalanine in the SARS E protein, incorporated in DMPC phospholipid bilayers, which are deposited in the form of thick multilamellar stacks on silicon surfaces. Here, we discuss the experimental aspects and the difficulties associated with the Fourier synthesis analysis that gives the electron density profile of the membranes.')\n",
            "Cord19Doc(doc_id='ma3ndg41', title='Italian Society of Interventional Cardiology (GISE) position paper for Cath lab‐specific preparedness recommendations for healthcare providers in case of suspected, probable or confirmed cases of COVID‐19', doi='10.1002/ccd.28888', date='2020-04-11', abstract='COVID‐19 pandemic raised the issue to guarantee the proper level of care to patients with acute cardiovascular diseases and concomitant suspected or confirmed COVID‐19 and, in the meantime safety and protection of healthcare providers. The aim of this position paper is to provide standards to healthcare facilities and healthcare providers on infection prevention and control measures during the management of suspected and confirmed cases of 2019‐nCoV infection accessing in cath‐lab. The document represents the view of the Italian Society of Interventional Cardiology (GISE), and it is based on recommendations from the main World and European Health Organizations (WHO, and ECDC) as well as from the Italian Society of Anesthesia, Analgesia, Resuscitation and Intensive Care (SIAARTI).')\n",
            "Cord19Doc(doc_id='wh10285j', title=\"Nimble, Together: A Training Program's Response to the COVID-19 Pandemic\", doi='10.1097/sla.0000000000003994', date='2020-04-29', abstract='')\n",
            "Cord19Doc(doc_id='pnl9th2c', title='Vascular Life during the COVID-19 Pandemic Reminds Us to Prepare for the Unexpected', doi='10.1016/j.ejvs.2020.04.040', date='2020-05-12', abstract='')\n"
          ],
          "name": "stdout"
        }
      ]
    },
    {
      "cell_type": "markdown",
      "metadata": {
        "id": "nm8hUpVWKOwM"
      },
      "source": [
        "You can also select by percentages, e.g., `[:1/3]` slects the first third, `[1/3:2/3]` selects the second third, and `[2/3:]` selects the final third. This is hany when splitting document processing across processes, machines, or GPUs.\n",
        "\n",
        "These slices are smart: they avoid processing each document in the collection and jump to the right position in the source files to process."
      ]
    },
    {
      "cell_type": "markdown",
      "metadata": {
        "id": "kZjhG-5XKqPR"
      },
      "source": [
        "Now let's say you know a document'd ID and want to find its text. You can use `docs_store()` to accomplish this."
      ]
    },
    {
      "cell_type": "code",
      "metadata": {
        "colab": {
          "base_uri": "https://localhost:8080/"
        },
        "id": "hXp1nxooJ6uP",
        "outputId": "fc52d452-754c-42fd-ae3f-2f37364c4462"
      },
      "source": [
        "docstore = dataset.docs_store()\n",
        "docstore.get('3wuh6k6g')"
      ],
      "execution_count": 10,
      "outputs": [
        {
          "output_type": "execute_result",
          "data": {
            "text/plain": [
              "Cord19Doc(doc_id='3wuh6k6g', title='Understand Research Hotspots Surrounding COVID-19 and Other Coronavirus Infections Using Topic Modeling', doi='10.1101/2020.03.26.20044164', date='2020-03-30', abstract='Background: Severe acute respiratory syndrome coronavirus 2 (SARS-CoV-2) is a virus that causes severe respiratory illness in humans, which eventually results in the current outbreak of novel coronavirus disease (COVID-19) around the world. The research community is interested to know what are the hotspots in coronavirus (CoV) research and how much is known about COVID-19. This study aimed to evaluate the characteristics of publications involving coronaviruses as well as COVID-19 by using a topic modeling analysis. Methods: We extracted all abstracts and retained the most informative words from the COVID-19 Open Research Dataset, which contains all the 35,092 pieces of coronavirus related literature published up to March 20, 2020. Using Latent Dirichlet Allocation modeling, we trained an eight-topic model from the corpus. We then analyzed the semantic relationships between topics and compared the topic distribution between COVID-19 and other CoV infections. Results: Eight topics emerged overall: clinical characterization, pathogenesis research, therapeutics research, epidemiological study, virus transmission, vaccines research, virus diagnostics, and viral genomics. It was observed that COVID-19 research puts more emphasis on clinical characterization, epidemiological study, and virus transmission at present. In contrast, topics about diagnostics, therapeutics, vaccines, genomics and pathogenesis only accounted for less than 10% or even 4% of all the COVID-19 publications, much lower than those of other CoV infections. Conclusions: These results identified knowledge gaps in the area of COVID-19 and offered directions for future research. Keywords: COVID-19, coronavirus, topic modeling, hotspots, text mining')"
            ]
          },
          "metadata": {
            "tags": []
          },
          "execution_count": 10
        }
      ]
    },
    {
      "cell_type": "markdown",
      "metadata": {
        "id": "m7IN1f9_LMS1"
      },
      "source": [
        "Or, a list of IDs. Maybe you're re-ranking these documents."
      ]
    },
    {
      "cell_type": "code",
      "metadata": {
        "colab": {
          "base_uri": "https://localhost:8080/"
        },
        "id": "oXvKBt6-LPtS",
        "outputId": "733320e0-2762-44ba-ce4c-226295d7878d"
      },
      "source": [
        "docstore.get_many(['ax6v6ham', '44l5q07k', '8xm0kacj', '3wuh6k6g', 'fiievwy7'])"
      ],
      "execution_count": 11,
      "outputs": [
        {
          "output_type": "execute_result",
          "data": {
            "text/plain": [
              "{'3wuh6k6g': Cord19Doc(doc_id='3wuh6k6g', title='Understand Research Hotspots Surrounding COVID-19 and Other Coronavirus Infections Using Topic Modeling', doi='10.1101/2020.03.26.20044164', date='2020-03-30', abstract='Background: Severe acute respiratory syndrome coronavirus 2 (SARS-CoV-2) is a virus that causes severe respiratory illness in humans, which eventually results in the current outbreak of novel coronavirus disease (COVID-19) around the world. The research community is interested to know what are the hotspots in coronavirus (CoV) research and how much is known about COVID-19. This study aimed to evaluate the characteristics of publications involving coronaviruses as well as COVID-19 by using a topic modeling analysis. Methods: We extracted all abstracts and retained the most informative words from the COVID-19 Open Research Dataset, which contains all the 35,092 pieces of coronavirus related literature published up to March 20, 2020. Using Latent Dirichlet Allocation modeling, we trained an eight-topic model from the corpus. We then analyzed the semantic relationships between topics and compared the topic distribution between COVID-19 and other CoV infections. Results: Eight topics emerged overall: clinical characterization, pathogenesis research, therapeutics research, epidemiological study, virus transmission, vaccines research, virus diagnostics, and viral genomics. It was observed that COVID-19 research puts more emphasis on clinical characterization, epidemiological study, and virus transmission at present. In contrast, topics about diagnostics, therapeutics, vaccines, genomics and pathogenesis only accounted for less than 10% or even 4% of all the COVID-19 publications, much lower than those of other CoV infections. Conclusions: These results identified knowledge gaps in the area of COVID-19 and offered directions for future research. Keywords: COVID-19, coronavirus, topic modeling, hotspots, text mining'),\n",
              " '44l5q07k': Cord19Doc(doc_id='44l5q07k', title='Rôle des animaux vertébrés dans l’épidémiologie des zoonoses', doi='10.1016/s1773-035x(15)30110-6', date='2015-05-31', abstract='Résumé Les zoonoses, distinguées ici des maladies humaines d’origine animale, représentent un ensemble d’entités pathologiques dont les agents responsables circulent régulièrement entre l’espèce humaine et de nombreuses espèces de vertébrés. L’analyse de divers exemples, quelles que soient les voies de transmission et les causes favorisantes de la contamination, met en avant une régulière rareté du passage direct du réservoir animal vers l’espèce humaine, à opposer à la diversité et surtout à la gravité possible des évolutions sanitaires ultérieures possibles, parfois liées à des comportements humains peu adaptés. D’un point de vue pratique, il semblerait plus pertinent de se pencher d’abord sur un meilleur contrôle de la diffusion des agents pathogènes au sein des populations humaines que d’agir a priori sur le réservoir animal, qu’il soit domestique ou sauvage, source potentielle de ces agents pathogènes mais selon des modalités difficiles à anticiper. La relation entre biodiversité et santé est abordée à l’occasion de la discussion. Summary Zoonoses, to be distinguished here from human diseases with an animal origin, represent a large quantity of pathological entities the corresponding pathogens of which are regularly shared between human beings and many different vertebrates species. Working on selected examples and situations, whatever the contamination routes and the facilitating reasons, puts into light a real rarity of a direct transmission from the animal reservoir to human beings. On the opposite, the diversity and the possible severity of some of the sanitary consequences, quite often in relation to human behaviours, must be stressed. On a practical point of view, it seems more adapted to try first to improve the control of pathogens diffusion within human populations after a contamination than to try to start to work first on the reservoir, be it domestic or wild, the potential source of these pathogens, but following routes quite difficult to anticipate. The relationship between biodiversity and health is discussed.'),\n",
              " '8xm0kacj': Cord19Doc(doc_id='8xm0kacj', title='Host range of SARS-CoV-2 and implications for public health', doi='10.1016/s2666-5247(20)30069-0', date='2020-06-18', abstract=''),\n",
              " 'ax6v6ham': Cord19Doc(doc_id='ax6v6ham', title='Close relationship between SARS-coronavirus and group 2 coronavirus.', doi='', date='2006', abstract='The sudden appearance and potential lethality of severe acute respiratory syndrome (SARS)-associated coronavirus (SARS-CoV) in humans has resulted in a focusing of new attention on the determination of both its origins and evolution. The relationship existing between SARS-CoV and other groups of coronaviruses was determined via analyses of phylogenetic trees and comparative genomic analyses of the coronavirus genes: polymerase (Orf1ab), spike (S), envelope (E), membrane (M) and nucleocapsid (N). Although the coronaviruses are traditionally classed into 3 groups, with SARS-CoV forming a 4th group, the phylogenetic position and origins of SARS-CoV remain a matter of some controversy. Thus, we conducted extensive phylogenetic analyses of the genes common to all coronavirus groups, using the Neighbor-joining, Maximum-likelihood, and Bayesian methods. Our data evidenced largely identical topology for all of the obtained phylogenetic trees, thus supporting the hypothesis that the relationship existing between SARS-CoV and group 2 coronavirus is a monophyletic one. Additional comparative genomic studies, including sequence similarity and protein secondary structure analyses, suggested that SARS-CoV may bear a closer relationship with group 2 than with the other coronavirus groups. Although our data strongly suggest that group 2 coronaviruses are most closely related with SARS-CoV, further and more detailed analyses may provide us with an increased amount of information regarding the origins and evolution of the coronaviruses, most notably SARS-CoV.'),\n",
              " 'fiievwy7': Cord19Doc(doc_id='fiievwy7', title='SARS-CoV-2 will continue to circulate in the human population: an opinion from the point of view of the virus-host relationship', doi='10.1007/s00011-020-01352-y', date='2020-04-30', abstract='At the population level, the virus-host relationship is not set up to end with the complete elimination of either or both. Pathogen-resistant individuals will always remain in the host population. In turn, the virus can never completely eliminate the host population, because evolutionarily such an event is a dead end for the virus as an obligate intracellular parasite. A certain existential balance exists in the virus-host relationship. Against this backdrop, viral epidemics and pandemics only become manifest and egregious to human beings when tens and hundreds of thousands of people die and the question emerges what caused the high mortality peaks on the death chart. The answer seems clear; the emerging strain of the virus is new to the host population, and new mutations of the virus and natural selection will lead to a survival of only genetically resistant individuals in a host population. The dangers inherent to a novel virus are due to new features generally inthe molecular structure of proteins, which enable the virus to infect the cells of the host organism more intensively, dramatically challenging host immunity, and thus be transmitted more readily in the host population. In this article, we will concentrate on the facts currently available about severe acute respiratory syndrome coronavirus 2 (SARS-CoV-2), which has caused COVID-19 (coronavirus disease 2019) pandemic and try to predict its development and consequences based on the virus-host relationship. In fact, only two scenarios will occur simultaneously in the very near future: people who are genetically resistant to the virus will get sick, recover, and develop immunity, while people who are sensitive to the virus will need drugs and vaccines, which will have to be researched and developed if they are to recover. If the pandemic does not stop, in a few decades it is anticipated that SARS-CoV-2 will become as safe as the four non-severe acute respiratory syndrome human coronaviruses (HCoV-NL63, HCoV-HKU1, HCoV-OC43, and HCoV-229E) currently circulating but causing low mortality in the human population.')}"
            ]
          },
          "metadata": {
            "tags": []
          },
          "execution_count": 11
        }
      ]
    },
    {
      "cell_type": "markdown",
      "metadata": {
        "id": "d_oB4z4ALcO0"
      },
      "source": [
        "If you don't care about the order they are returned in, you can use `get_many_iter()`. This avoids keeping all the results in memory, and reads them in the order in which they appear on disk."
      ]
    },
    {
      "cell_type": "code",
      "metadata": {
        "colab": {
          "base_uri": "https://localhost:8080/"
        },
        "id": "uBIivxhyK2kz",
        "outputId": "3423a7cd-e9ca-448c-e46b-98a057153601"
      },
      "source": [
        "for doc in docstore.get_many_iter(['ax6v6ham', '44l5q07k', '8xm0kacj', '3wuh6k6g', 'fiievwy7']):\n",
        "  print(doc)"
      ],
      "execution_count": 12,
      "outputs": [
        {
          "output_type": "stream",
          "text": [
            "Cord19Doc(doc_id='3wuh6k6g', title='Understand Research Hotspots Surrounding COVID-19 and Other Coronavirus Infections Using Topic Modeling', doi='10.1101/2020.03.26.20044164', date='2020-03-30', abstract='Background: Severe acute respiratory syndrome coronavirus 2 (SARS-CoV-2) is a virus that causes severe respiratory illness in humans, which eventually results in the current outbreak of novel coronavirus disease (COVID-19) around the world. The research community is interested to know what are the hotspots in coronavirus (CoV) research and how much is known about COVID-19. This study aimed to evaluate the characteristics of publications involving coronaviruses as well as COVID-19 by using a topic modeling analysis. Methods: We extracted all abstracts and retained the most informative words from the COVID-19 Open Research Dataset, which contains all the 35,092 pieces of coronavirus related literature published up to March 20, 2020. Using Latent Dirichlet Allocation modeling, we trained an eight-topic model from the corpus. We then analyzed the semantic relationships between topics and compared the topic distribution between COVID-19 and other CoV infections. Results: Eight topics emerged overall: clinical characterization, pathogenesis research, therapeutics research, epidemiological study, virus transmission, vaccines research, virus diagnostics, and viral genomics. It was observed that COVID-19 research puts more emphasis on clinical characterization, epidemiological study, and virus transmission at present. In contrast, topics about diagnostics, therapeutics, vaccines, genomics and pathogenesis only accounted for less than 10% or even 4% of all the COVID-19 publications, much lower than those of other CoV infections. Conclusions: These results identified knowledge gaps in the area of COVID-19 and offered directions for future research. Keywords: COVID-19, coronavirus, topic modeling, hotspots, text mining')\n",
            "Cord19Doc(doc_id='ax6v6ham', title='Close relationship between SARS-coronavirus and group 2 coronavirus.', doi='', date='2006', abstract='The sudden appearance and potential lethality of severe acute respiratory syndrome (SARS)-associated coronavirus (SARS-CoV) in humans has resulted in a focusing of new attention on the determination of both its origins and evolution. The relationship existing between SARS-CoV and other groups of coronaviruses was determined via analyses of phylogenetic trees and comparative genomic analyses of the coronavirus genes: polymerase (Orf1ab), spike (S), envelope (E), membrane (M) and nucleocapsid (N). Although the coronaviruses are traditionally classed into 3 groups, with SARS-CoV forming a 4th group, the phylogenetic position and origins of SARS-CoV remain a matter of some controversy. Thus, we conducted extensive phylogenetic analyses of the genes common to all coronavirus groups, using the Neighbor-joining, Maximum-likelihood, and Bayesian methods. Our data evidenced largely identical topology for all of the obtained phylogenetic trees, thus supporting the hypothesis that the relationship existing between SARS-CoV and group 2 coronavirus is a monophyletic one. Additional comparative genomic studies, including sequence similarity and protein secondary structure analyses, suggested that SARS-CoV may bear a closer relationship with group 2 than with the other coronavirus groups. Although our data strongly suggest that group 2 coronaviruses are most closely related with SARS-CoV, further and more detailed analyses may provide us with an increased amount of information regarding the origins and evolution of the coronaviruses, most notably SARS-CoV.')\n",
            "Cord19Doc(doc_id='fiievwy7', title='SARS-CoV-2 will continue to circulate in the human population: an opinion from the point of view of the virus-host relationship', doi='10.1007/s00011-020-01352-y', date='2020-04-30', abstract='At the population level, the virus-host relationship is not set up to end with the complete elimination of either or both. Pathogen-resistant individuals will always remain in the host population. In turn, the virus can never completely eliminate the host population, because evolutionarily such an event is a dead end for the virus as an obligate intracellular parasite. A certain existential balance exists in the virus-host relationship. Against this backdrop, viral epidemics and pandemics only become manifest and egregious to human beings when tens and hundreds of thousands of people die and the question emerges what caused the high mortality peaks on the death chart. The answer seems clear; the emerging strain of the virus is new to the host population, and new mutations of the virus and natural selection will lead to a survival of only genetically resistant individuals in a host population. The dangers inherent to a novel virus are due to new features generally inthe molecular structure of proteins, which enable the virus to infect the cells of the host organism more intensively, dramatically challenging host immunity, and thus be transmitted more readily in the host population. In this article, we will concentrate on the facts currently available about severe acute respiratory syndrome coronavirus 2 (SARS-CoV-2), which has caused COVID-19 (coronavirus disease 2019) pandemic and try to predict its development and consequences based on the virus-host relationship. In fact, only two scenarios will occur simultaneously in the very near future: people who are genetically resistant to the virus will get sick, recover, and develop immunity, while people who are sensitive to the virus will need drugs and vaccines, which will have to be researched and developed if they are to recover. If the pandemic does not stop, in a few decades it is anticipated that SARS-CoV-2 will become as safe as the four non-severe acute respiratory syndrome human coronaviruses (HCoV-NL63, HCoV-HKU1, HCoV-OC43, and HCoV-229E) currently circulating but causing low mortality in the human population.')\n",
            "Cord19Doc(doc_id='44l5q07k', title='Rôle des animaux vertébrés dans l’épidémiologie des zoonoses', doi='10.1016/s1773-035x(15)30110-6', date='2015-05-31', abstract='Résumé Les zoonoses, distinguées ici des maladies humaines d’origine animale, représentent un ensemble d’entités pathologiques dont les agents responsables circulent régulièrement entre l’espèce humaine et de nombreuses espèces de vertébrés. L’analyse de divers exemples, quelles que soient les voies de transmission et les causes favorisantes de la contamination, met en avant une régulière rareté du passage direct du réservoir animal vers l’espèce humaine, à opposer à la diversité et surtout à la gravité possible des évolutions sanitaires ultérieures possibles, parfois liées à des comportements humains peu adaptés. D’un point de vue pratique, il semblerait plus pertinent de se pencher d’abord sur un meilleur contrôle de la diffusion des agents pathogènes au sein des populations humaines que d’agir a priori sur le réservoir animal, qu’il soit domestique ou sauvage, source potentielle de ces agents pathogènes mais selon des modalités difficiles à anticiper. La relation entre biodiversité et santé est abordée à l’occasion de la discussion. Summary Zoonoses, to be distinguished here from human diseases with an animal origin, represent a large quantity of pathological entities the corresponding pathogens of which are regularly shared between human beings and many different vertebrates species. Working on selected examples and situations, whatever the contamination routes and the facilitating reasons, puts into light a real rarity of a direct transmission from the animal reservoir to human beings. On the opposite, the diversity and the possible severity of some of the sanitary consequences, quite often in relation to human behaviours, must be stressed. On a practical point of view, it seems more adapted to try first to improve the control of pathogens diffusion within human populations after a contamination than to try to start to work first on the reservoir, be it domestic or wild, the potential source of these pathogens, but following routes quite difficult to anticipate. The relationship between biodiversity and health is discussed.')\n",
            "Cord19Doc(doc_id='8xm0kacj', title='Host range of SARS-CoV-2 and implications for public health', doi='10.1016/s2666-5247(20)30069-0', date='2020-06-18', abstract='')\n"
          ],
          "name": "stdout"
        }
      ]
    },
    {
      "cell_type": "markdown",
      "metadata": {
        "id": "Vis7u-VeMX70"
      },
      "source": [
        "## Queries\n",
        "\n",
        "`queries` (topics) map a `query_id` to one or more text fields. Akint to `docs`, you can iterate over queries for a collection using `queries_iter()`:"
      ]
    },
    {
      "cell_type": "code",
      "metadata": {
        "colab": {
          "base_uri": "https://localhost:8080/"
        },
        "id": "-Tl3npjZLEWB",
        "outputId": "57bb154e-cb8a-4e6e-b57d-7ae3e5261c22"
      },
      "source": [
        "for query in dataset.queries_iter():\n",
        "  print(query)"
      ],
      "execution_count": 13,
      "outputs": [
        {
          "output_type": "stream",
          "text": [
            "TrecQuery(query_id='1', title='coronavirus origin', description='what is the origin of COVID-19', narrative=\"seeking range of information about the SARS-CoV-2 virus's origin, including its evolution, animal source, and first transmission into humans\")\n",
            "TrecQuery(query_id='2', title='coronavirus response to weather changes', description='how does the coronavirus respond to changes in the weather', narrative='seeking range of information about the SARS-CoV-2 virus viability in different weather/climate conditions as well as information related to transmission of the virus in different climate conditions')\n",
            "TrecQuery(query_id='3', title='coronavirus immunity', description='will SARS-CoV2 infected people develop immunity? Is cross protection possible?', narrative='seeking studies of immunity developed due to infection with SARS-CoV2 or cross protection gained due to infection with other coronavirus types')\n",
            "TrecQuery(query_id='4', title='how do people die from the coronavirus', description='what causes death from Covid-19?', narrative='Studies looking at mechanisms of death from Covid-19.')\n",
            "TrecQuery(query_id='5', title='animal models of COVID-19', description='what drugs have been active against SARS-CoV or SARS-CoV-2 in animal studies?', narrative='Papers that describe the results  of testing drugs that bind to spike proteins of the virus or any other drugs in any animal models. Papers about SARS-CoV-2 infection in cell culture assays are also relevant.')\n",
            "TrecQuery(query_id='6', title='coronavirus test rapid testing', description='what types of rapid testing for Covid-19 have been developed?', narrative='Looking for studies identifying ways to diagnose Covid-19 more rapidly.')\n",
            "TrecQuery(query_id='7', title='serological tests for coronavirus', description='are there serological tests that detect antibodies to coronavirus?', narrative='Looking for assays that measure immune response to COVID-19 that will help determine past infection and subsequent possible immunity.')\n",
            "TrecQuery(query_id='8', title='coronavirus under reporting', description='how has lack of testing availability led to underreporting of true incidence of Covid-19?', narrative='Looking for studies answering questions of impact of lack of complete testing for Covid-19 on incidence and prevalence of Covid-19.')\n",
            "TrecQuery(query_id='9', title='coronavirus in Canada', description='how has COVID-19 affected Canada', narrative='seeking data related to infections (confirm, suspected, and projected) and health outcomes (symptoms, hospitalization, intensive care, mortality)')\n",
            "TrecQuery(query_id='10', title='coronavirus social distancing impact', description='has social distancing had an impact on slowing the spread of COVID-19?', narrative=\"seeking specific information on studies that have measured COVID-19's transmission in one or more social distancing (or non-social distancing) approaches\")\n",
            "TrecQuery(query_id='11', title='coronavirus hospital rationing', description='what are the guidelines for triaging patients infected with coronavirus?', narrative='Seeking information on any guidelines for prioritizing COVID-19 patients infected with coronavirus based on demographics, clinical signs, serology and other tests.')\n",
            "TrecQuery(query_id='12', title='coronavirus quarantine', description='what are best practices in hospitals and at home in maintaining quarantine?', narrative='Seeking information on best practices for activities and duration of quarantine for those exposed and/ infected to COVID-19 virus.')\n",
            "TrecQuery(query_id='13', title='how does coronavirus spread', description='what are the transmission routes of coronavirus?', narrative='Looking for information on all possible ways to contract COVID-19 from people, animals and objects')\n",
            "TrecQuery(query_id='14', title='coronavirus super spreaders', description='what evidence is there related to COVID-19 super spreaders', narrative='seeking range of information related to the number and proportion of super spreaders, their patterns of behavior that lead to spread, and potential prevention strategies targeted specifically toward super spreaders')\n",
            "TrecQuery(query_id='15', title='coronavirus outside body', description='how long can the coronavirus live outside the body', narrative=\"seeking range of information on the SARS-CoV-2's virus's survival in different environments (surfaces, liquids, etc.) outside the human body while still being viable for transmission to another human\")\n",
            "TrecQuery(query_id='16', title='how long does coronavirus survive on surfaces', description='how long does coronavirus remain stable  on surfaces?', narrative='Studies of time SARS-CoV-2 remains stable after being deposited from an infected person on everyday surfaces in a household or hospital setting, such as through coughing or touching objects.')\n",
            "TrecQuery(query_id='17', title='coronavirus clinical trials', description='are there any clinical trials available for the coronavirus', narrative='seeking specific COVID-19 clinical trials ranging from trials in recruitment to completed trials with results')\n",
            "TrecQuery(query_id='18', title='masks prevent coronavirus', description='what are the best masks for preventing infection by Covid-19?', narrative='What types of masks should or should not be used to prevent infection by Covid-19?')\n",
            "TrecQuery(query_id='19', title='what alcohol sanitizer kills coronavirus', description='what type of hand sanitizer is needed to destroy Covid-19?', narrative='Studies assessing chemicals and their concentrations needed to destroy the Covid-19 virus.')\n",
            "TrecQuery(query_id='20', title='coronavirus and ACE inhibitors', description='are patients taking Angiotensin-converting enzyme inhibitors (ACE) at increased risk for COVID-19?', narrative='Looking for information on interactions between  coronavirus and  angiotensin converting enzyme 2 (ACE2) receptors, risk for patients taking these medications, and recommendations for these patients.')\n",
            "TrecQuery(query_id='21', title='coronavirus mortality', description='what are the mortality rates overall and in specific populations', narrative='Seeking  information on COVID-19 fatality rates in different countries and in different population groups based on gender, blood types, or other factors')\n",
            "TrecQuery(query_id='22', title='coronavirus heart impacts', description='are cardiac complications likely in patients with COVID-19?', narrative='Seeking information on the types, frequency and mechanisms of cardiac complications caused by coronavirus.')\n",
            "TrecQuery(query_id='23', title='coronavirus hypertension', description='what kinds of complications related to COVID-19 are associated with hypertension?', narrative='seeking specific outcomes that hypertensive  (any type) patients are more/less likely to face if infected with the virus')\n",
            "TrecQuery(query_id='24', title='coronavirus diabetes', description='what kinds of complications related to COVID-19 are associated with diabetes', narrative='seeking specific outcomes that diabetic (any type) patients are more/less likely to face if infected with the virus')\n",
            "TrecQuery(query_id='25', title='coronavirus biomarkers', description='which biomarkers predict the severe clinical course of 2019-nCOV infection?', narrative='Looking for information on biomarkers that predict disease outcomes in people infected with coronavirus, specifically those that predict severe and fatal outcomes.')\n",
            "TrecQuery(query_id='26', title='coronavirus early symptoms', description='what are the initial symptoms of Covid-19?', narrative='Studies of patients and the first clinical manifestations they develop upon active infection?')\n",
            "TrecQuery(query_id='27', title='coronavirus asymptomatic', description='what is known about those infected with Covid-19 but are asymptomatic?', narrative='Studies of people who are known to be infected with Covid-19 but show no symptoms?')\n",
            "TrecQuery(query_id='28', title='coronavirus hydroxychloroquine', description='what evidence is there for the value of hydroxychloroquine in treating Covid-19?', narrative='Basic science or clinical studies assessing the benefit and harms of treating Covid-19 with hydroxychloroquine.')\n",
            "TrecQuery(query_id='29', title='coronavirus drug repurposing', description='which SARS-CoV-2 proteins-human proteins interactions indicate potential for drug targets. Are there approved drugs that can be repurposed based on this information?', narrative='Seeking information about protein-protein interactions for any of the SARS-CoV-2  structural proteins that represent a promising therapeutic target,  and the drug  molecules that may inhibit the virus and the host cell receptors at entry step.')\n",
            "TrecQuery(query_id='30', title='coronavirus remdesivir', description='is remdesivir an effective treatment for COVID-19', narrative='seeking specific information on clinical outcomes in COVID-19 patients treated with remdesivir')\n",
            "TrecQuery(query_id='31', title='difference between coronavirus and flu', description='How does the coronavirus differ from seasonal flu?', narrative='Includes studies ranging from those focusing on genomic differences to global public health impacts, but must draw direct comparisons between COVID-19 and seasonal influenza.')\n",
            "TrecQuery(query_id='32', title='coronavirus subtypes', description='Does SARS-CoV-2 have any subtypes, and if so what are they?', narrative='Papers that discuss subtypes of the virus, from named subtypes to speculative subtypes based on genomic or geographic clustering.')\n",
            "TrecQuery(query_id='33', title='coronavirus vaccine candidates', description='What vaccine candidates are being tested for Covid-19?', narrative='Seeking studies that discuss possible, but specific, COVID-19 vaccines. Includes articles from those describing the mechanisms of action of specific proposed vaccines to actual clinical trials, but excluding articles that do not name a specific vaccine candidate.')\n",
            "TrecQuery(query_id='34', title='coronavirus recovery', description='What are the longer-term complications of those who recover from COVID-19?', narrative='Seeking information on the health outcomes for those that recover from the virus. Excludes studies only focusing on adverse effects related to a particular COVID-19 drug.')\n",
            "TrecQuery(query_id='35', title='coronavirus public datasets', description='What new public datasets are available related to COVID-19?', narrative='Seeking articles that specifically release new data related to SARS-CoV-2 or COVID-19, including genomic data, patient data, public health data, etc. Articles that reference previously existing datasets are not relevant.')\n",
            "TrecQuery(query_id='36', title='SARS-CoV-2 spike structure', description='What is the protein structure of the SARS-CoV-2 spike?', narrative='Looking for studies of the structure of the spike protein on the virus using any methods, such as cryo-EM or crystallography')\n",
            "TrecQuery(query_id='37', title='SARS-CoV-2 phylogenetic analysis', description='What is the result of phylogenetic analysis of SARS-CoV-2 genome sequence?', narrative='Looking for a range of studies which provide the results of phylogenetic network analysis on the SARS-CoV-2 genome')\n",
            "TrecQuery(query_id='38', title='COVID inflammatory response', description='What is the mechanism of inflammatory response and pathogenesis of COVID-19 cases?', narrative='Looking for a range of studies which describes the inflammatory response cells and pathogenesis during the Coronavirus Disease 2019 (COVID-19) outbreak, including the mechanism of anti-inflammatory drugs, corticosteroids, and vitamin supplements')\n",
            "TrecQuery(query_id='39', title='COVID-19 cytokine storm', description='What is the mechanism of cytokine storm syndrome on the COVID-19?', narrative='Looking for studies that describes mechanism of development of cytokine storm syndrome among COVID-19 cases and the range of drugs used for the therapy of cytokine storm')\n",
            "TrecQuery(query_id='40', title='coronavirus mutations', description='What are the observed mutations in the SARS-CoV-2 genome and how often do the mutations occur?', narrative='Looking for studies that describes the emergence of genomic diversity of the coronavirus due to recurrent mutations which explore the potential genomic site of the mutation, mechanisms and its potential or observed clinical implications in the pathogenicity of the virus')\n",
            "TrecQuery(query_id='41', title='COVID-19 in African-Americans', description='What are the impacts of COVID-19 among African-Americans that differ from the rest of the U.S. population?', narrative='Looking for studies that analyze burden of illness and death among the African-American/black racial/ethnic group. This includes potential reasons for transmission, morbidity, and mortality. This may include discussion of other minority groups, but all studies should contain specific information on the health disparities faced by African-Americans in this pandemic.')\n",
            "TrecQuery(query_id='42', title='Vitamin D and COVID-19', description='Does Vitamin D impact COVID-19 prevention and treatment?', narrative='This includes studies describing possible role of Vitamin D in prevention of COVID-19, suppression of cytokine storm, clinical outcomes, and associations between Vitamin D status and COVID-19 mortality.')\n",
            "TrecQuery(query_id='43', title='violence during pandemic', description='How has the COVID-19 pandemic impacted violence in society, including violent crimes?', narrative='Looking for analyses and data on how the pandemic is impacting rates of violence, including domestic/family violence related to quarantine.')\n",
            "TrecQuery(query_id='44', title='impact of masks on coronavirus transmission', description='How much impact do masks have on preventing the spread of the COVID-19?', narrative='Looking for studies of how masks slow SARS-CoV-2 transmission, including impact on R0. Studies can include both lab and population studies.')\n",
            "TrecQuery(query_id='45', title='coronavirus mental health impact', description='How has the COVID-19 pandemic impacted mental health?', narrative='Includes increasing/decreasing rates of depression, anxiety, panic disorder, and other psychiatric and mental health conditions.')\n",
            "TrecQuery(query_id='46', title='dexamethasone coronavirus', description='what evidence is there for dexamethasone as a treatment for COVID-19?', narrative='Looking for studies on the impact of dexamethasone treatment in COVID-19 patients, including health benefits as well as adverse effects. This also includes specific populations that are benefitted/harmed by dexamethasone.')\n",
            "TrecQuery(query_id='47', title='COVID-19 outcomes in children', description='what are the health outcomes for children who contract COVID-19?', narrative='Looking for studies on health outcomes in children related to COVID-19. This includes studies attempting to explain the underlying biological mechanisms for why children differ from adults in response to infection.')\n",
            "TrecQuery(query_id='48', title='school reopening coronavirus', description='what are the benefits and risks of re-opening schools in the midst of the COVID-19 pandemic?', narrative='With the possibility of schools re-opening while the COVID-19 pandemic is still ongoing, this topic is looking for evidence or projections on what the potential implications of this are in terms of COVID-19 cases, hospitalizations, or deaths, as well as other benefits or harms to re-opening schools. This includes both the impact on students, teachers, families, and the wider community.')\n",
            "TrecQuery(query_id='49', title='post-infection COVID-19 immunity', description='do individuals who recover from COVID-19 show sufficient immune response, including antibody levels and T-cell mediated immunity, to prevent re-infection?', narrative='There is concern about re-infection for COVID-19, so this topic is looking for studies suggesting post-infection immunity, including post-infection antibody levels (over time) and evidence for individuals who have been infected more than once.')\n",
            "TrecQuery(query_id='50', title='mRNA vaccine coronavirus', description='what is known about an mRNA vaccine for the SARS-CoV-2 virus?', narrative='Looking for studies specifically focusing on mRNA vaccines for COVID-19, including how mRNA vaccines work, why they are promising, and any results from actual clinical studies.')\n"
          ],
          "name": "stdout"
        }
      ]
    },
    {
      "cell_type": "markdown",
      "metadata": {
        "id": "-0TnBGErO7VS"
      },
      "source": [
        "Iterables of namedtuples are handy structures because they are lightweight and do not load all the content into memory. But in case you need that, you can easily convert them into other data structures. Here's an example building a Pandas DataFrame of the queries:"
      ]
    },
    {
      "cell_type": "code",
      "metadata": {
        "colab": {
          "base_uri": "https://localhost:8080/",
          "height": 1000
        },
        "id": "nFsImZY1PNGa",
        "outputId": "6bf596b8-8412-48e7-be75-eaf5e703eb01"
      },
      "source": [
        "import pandas as pd\n",
        "pd.DataFrame(dataset.queries_iter())"
      ],
      "execution_count": 14,
      "outputs": [
        {
          "output_type": "execute_result",
          "data": {
            "text/html": [
              "<div>\n",
              "<style scoped>\n",
              "    .dataframe tbody tr th:only-of-type {\n",
              "        vertical-align: middle;\n",
              "    }\n",
              "\n",
              "    .dataframe tbody tr th {\n",
              "        vertical-align: top;\n",
              "    }\n",
              "\n",
              "    .dataframe thead th {\n",
              "        text-align: right;\n",
              "    }\n",
              "</style>\n",
              "<table border=\"1\" class=\"dataframe\">\n",
              "  <thead>\n",
              "    <tr style=\"text-align: right;\">\n",
              "      <th></th>\n",
              "      <th>query_id</th>\n",
              "      <th>title</th>\n",
              "      <th>description</th>\n",
              "      <th>narrative</th>\n",
              "    </tr>\n",
              "  </thead>\n",
              "  <tbody>\n",
              "    <tr>\n",
              "      <th>0</th>\n",
              "      <td>1</td>\n",
              "      <td>coronavirus origin</td>\n",
              "      <td>what is the origin of COVID-19</td>\n",
              "      <td>seeking range of information about the SARS-Co...</td>\n",
              "    </tr>\n",
              "    <tr>\n",
              "      <th>1</th>\n",
              "      <td>2</td>\n",
              "      <td>coronavirus response to weather changes</td>\n",
              "      <td>how does the coronavirus respond to changes in...</td>\n",
              "      <td>seeking range of information about the SARS-Co...</td>\n",
              "    </tr>\n",
              "    <tr>\n",
              "      <th>2</th>\n",
              "      <td>3</td>\n",
              "      <td>coronavirus immunity</td>\n",
              "      <td>will SARS-CoV2 infected people develop immunit...</td>\n",
              "      <td>seeking studies of immunity developed due to i...</td>\n",
              "    </tr>\n",
              "    <tr>\n",
              "      <th>3</th>\n",
              "      <td>4</td>\n",
              "      <td>how do people die from the coronavirus</td>\n",
              "      <td>what causes death from Covid-19?</td>\n",
              "      <td>Studies looking at mechanisms of death from Co...</td>\n",
              "    </tr>\n",
              "    <tr>\n",
              "      <th>4</th>\n",
              "      <td>5</td>\n",
              "      <td>animal models of COVID-19</td>\n",
              "      <td>what drugs have been active against SARS-CoV o...</td>\n",
              "      <td>Papers that describe the results  of testing d...</td>\n",
              "    </tr>\n",
              "    <tr>\n",
              "      <th>5</th>\n",
              "      <td>6</td>\n",
              "      <td>coronavirus test rapid testing</td>\n",
              "      <td>what types of rapid testing for Covid-19 have ...</td>\n",
              "      <td>Looking for studies identifying ways to diagno...</td>\n",
              "    </tr>\n",
              "    <tr>\n",
              "      <th>6</th>\n",
              "      <td>7</td>\n",
              "      <td>serological tests for coronavirus</td>\n",
              "      <td>are there serological tests that detect antibo...</td>\n",
              "      <td>Looking for assays that measure immune respons...</td>\n",
              "    </tr>\n",
              "    <tr>\n",
              "      <th>7</th>\n",
              "      <td>8</td>\n",
              "      <td>coronavirus under reporting</td>\n",
              "      <td>how has lack of testing availability led to un...</td>\n",
              "      <td>Looking for studies answering questions of imp...</td>\n",
              "    </tr>\n",
              "    <tr>\n",
              "      <th>8</th>\n",
              "      <td>9</td>\n",
              "      <td>coronavirus in Canada</td>\n",
              "      <td>how has COVID-19 affected Canada</td>\n",
              "      <td>seeking data related to infections (confirm, s...</td>\n",
              "    </tr>\n",
              "    <tr>\n",
              "      <th>9</th>\n",
              "      <td>10</td>\n",
              "      <td>coronavirus social distancing impact</td>\n",
              "      <td>has social distancing had an impact on slowing...</td>\n",
              "      <td>seeking specific information on studies that h...</td>\n",
              "    </tr>\n",
              "    <tr>\n",
              "      <th>10</th>\n",
              "      <td>11</td>\n",
              "      <td>coronavirus hospital rationing</td>\n",
              "      <td>what are the guidelines for triaging patients ...</td>\n",
              "      <td>Seeking information on any guidelines for prio...</td>\n",
              "    </tr>\n",
              "    <tr>\n",
              "      <th>11</th>\n",
              "      <td>12</td>\n",
              "      <td>coronavirus quarantine</td>\n",
              "      <td>what are best practices in hospitals and at ho...</td>\n",
              "      <td>Seeking information on best practices for acti...</td>\n",
              "    </tr>\n",
              "    <tr>\n",
              "      <th>12</th>\n",
              "      <td>13</td>\n",
              "      <td>how does coronavirus spread</td>\n",
              "      <td>what are the transmission routes of coronavirus?</td>\n",
              "      <td>Looking for information on all possible ways t...</td>\n",
              "    </tr>\n",
              "    <tr>\n",
              "      <th>13</th>\n",
              "      <td>14</td>\n",
              "      <td>coronavirus super spreaders</td>\n",
              "      <td>what evidence is there related to COVID-19 sup...</td>\n",
              "      <td>seeking range of information related to the nu...</td>\n",
              "    </tr>\n",
              "    <tr>\n",
              "      <th>14</th>\n",
              "      <td>15</td>\n",
              "      <td>coronavirus outside body</td>\n",
              "      <td>how long can the coronavirus live outside the ...</td>\n",
              "      <td>seeking range of information on the SARS-CoV-2...</td>\n",
              "    </tr>\n",
              "    <tr>\n",
              "      <th>15</th>\n",
              "      <td>16</td>\n",
              "      <td>how long does coronavirus survive on surfaces</td>\n",
              "      <td>how long does coronavirus remain stable  on su...</td>\n",
              "      <td>Studies of time SARS-CoV-2 remains stable afte...</td>\n",
              "    </tr>\n",
              "    <tr>\n",
              "      <th>16</th>\n",
              "      <td>17</td>\n",
              "      <td>coronavirus clinical trials</td>\n",
              "      <td>are there any clinical trials available for th...</td>\n",
              "      <td>seeking specific COVID-19 clinical trials rang...</td>\n",
              "    </tr>\n",
              "    <tr>\n",
              "      <th>17</th>\n",
              "      <td>18</td>\n",
              "      <td>masks prevent coronavirus</td>\n",
              "      <td>what are the best masks for preventing infecti...</td>\n",
              "      <td>What types of masks should or should not be us...</td>\n",
              "    </tr>\n",
              "    <tr>\n",
              "      <th>18</th>\n",
              "      <td>19</td>\n",
              "      <td>what alcohol sanitizer kills coronavirus</td>\n",
              "      <td>what type of hand sanitizer is needed to destr...</td>\n",
              "      <td>Studies assessing chemicals and their concentr...</td>\n",
              "    </tr>\n",
              "    <tr>\n",
              "      <th>19</th>\n",
              "      <td>20</td>\n",
              "      <td>coronavirus and ACE inhibitors</td>\n",
              "      <td>are patients taking Angiotensin-converting enz...</td>\n",
              "      <td>Looking for information on interactions betwee...</td>\n",
              "    </tr>\n",
              "    <tr>\n",
              "      <th>20</th>\n",
              "      <td>21</td>\n",
              "      <td>coronavirus mortality</td>\n",
              "      <td>what are the mortality rates overall and in sp...</td>\n",
              "      <td>Seeking  information on COVID-19 fatality rate...</td>\n",
              "    </tr>\n",
              "    <tr>\n",
              "      <th>21</th>\n",
              "      <td>22</td>\n",
              "      <td>coronavirus heart impacts</td>\n",
              "      <td>are cardiac complications likely in patients w...</td>\n",
              "      <td>Seeking information on the types, frequency an...</td>\n",
              "    </tr>\n",
              "    <tr>\n",
              "      <th>22</th>\n",
              "      <td>23</td>\n",
              "      <td>coronavirus hypertension</td>\n",
              "      <td>what kinds of complications related to COVID-1...</td>\n",
              "      <td>seeking specific outcomes that hypertensive  (...</td>\n",
              "    </tr>\n",
              "    <tr>\n",
              "      <th>23</th>\n",
              "      <td>24</td>\n",
              "      <td>coronavirus diabetes</td>\n",
              "      <td>what kinds of complications related to COVID-1...</td>\n",
              "      <td>seeking specific outcomes that diabetic (any t...</td>\n",
              "    </tr>\n",
              "    <tr>\n",
              "      <th>24</th>\n",
              "      <td>25</td>\n",
              "      <td>coronavirus biomarkers</td>\n",
              "      <td>which biomarkers predict the severe clinical c...</td>\n",
              "      <td>Looking for information on biomarkers that pre...</td>\n",
              "    </tr>\n",
              "    <tr>\n",
              "      <th>25</th>\n",
              "      <td>26</td>\n",
              "      <td>coronavirus early symptoms</td>\n",
              "      <td>what are the initial symptoms of Covid-19?</td>\n",
              "      <td>Studies of patients and the first clinical man...</td>\n",
              "    </tr>\n",
              "    <tr>\n",
              "      <th>26</th>\n",
              "      <td>27</td>\n",
              "      <td>coronavirus asymptomatic</td>\n",
              "      <td>what is known about those infected with Covid-...</td>\n",
              "      <td>Studies of people who are known to be infected...</td>\n",
              "    </tr>\n",
              "    <tr>\n",
              "      <th>27</th>\n",
              "      <td>28</td>\n",
              "      <td>coronavirus hydroxychloroquine</td>\n",
              "      <td>what evidence is there for the value of hydrox...</td>\n",
              "      <td>Basic science or clinical studies assessing th...</td>\n",
              "    </tr>\n",
              "    <tr>\n",
              "      <th>28</th>\n",
              "      <td>29</td>\n",
              "      <td>coronavirus drug repurposing</td>\n",
              "      <td>which SARS-CoV-2 proteins-human proteins inter...</td>\n",
              "      <td>Seeking information about protein-protein inte...</td>\n",
              "    </tr>\n",
              "    <tr>\n",
              "      <th>29</th>\n",
              "      <td>30</td>\n",
              "      <td>coronavirus remdesivir</td>\n",
              "      <td>is remdesivir an effective treatment for COVID-19</td>\n",
              "      <td>seeking specific information on clinical outco...</td>\n",
              "    </tr>\n",
              "    <tr>\n",
              "      <th>30</th>\n",
              "      <td>31</td>\n",
              "      <td>difference between coronavirus and flu</td>\n",
              "      <td>How does the coronavirus differ from seasonal ...</td>\n",
              "      <td>Includes studies ranging from those focusing o...</td>\n",
              "    </tr>\n",
              "    <tr>\n",
              "      <th>31</th>\n",
              "      <td>32</td>\n",
              "      <td>coronavirus subtypes</td>\n",
              "      <td>Does SARS-CoV-2 have any subtypes, and if so w...</td>\n",
              "      <td>Papers that discuss subtypes of the virus, fro...</td>\n",
              "    </tr>\n",
              "    <tr>\n",
              "      <th>32</th>\n",
              "      <td>33</td>\n",
              "      <td>coronavirus vaccine candidates</td>\n",
              "      <td>What vaccine candidates are being tested for C...</td>\n",
              "      <td>Seeking studies that discuss possible, but spe...</td>\n",
              "    </tr>\n",
              "    <tr>\n",
              "      <th>33</th>\n",
              "      <td>34</td>\n",
              "      <td>coronavirus recovery</td>\n",
              "      <td>What are the longer-term complications of thos...</td>\n",
              "      <td>Seeking information on the health outcomes for...</td>\n",
              "    </tr>\n",
              "    <tr>\n",
              "      <th>34</th>\n",
              "      <td>35</td>\n",
              "      <td>coronavirus public datasets</td>\n",
              "      <td>What new public datasets are available related...</td>\n",
              "      <td>Seeking articles that specifically release new...</td>\n",
              "    </tr>\n",
              "    <tr>\n",
              "      <th>35</th>\n",
              "      <td>36</td>\n",
              "      <td>SARS-CoV-2 spike structure</td>\n",
              "      <td>What is the protein structure of the SARS-CoV-...</td>\n",
              "      <td>Looking for studies of the structure of the sp...</td>\n",
              "    </tr>\n",
              "    <tr>\n",
              "      <th>36</th>\n",
              "      <td>37</td>\n",
              "      <td>SARS-CoV-2 phylogenetic analysis</td>\n",
              "      <td>What is the result of phylogenetic analysis of...</td>\n",
              "      <td>Looking for a range of studies which provide t...</td>\n",
              "    </tr>\n",
              "    <tr>\n",
              "      <th>37</th>\n",
              "      <td>38</td>\n",
              "      <td>COVID inflammatory response</td>\n",
              "      <td>What is the mechanism of inflammatory response...</td>\n",
              "      <td>Looking for a range of studies which describes...</td>\n",
              "    </tr>\n",
              "    <tr>\n",
              "      <th>38</th>\n",
              "      <td>39</td>\n",
              "      <td>COVID-19 cytokine storm</td>\n",
              "      <td>What is the mechanism of cytokine storm syndro...</td>\n",
              "      <td>Looking for studies that describes mechanism o...</td>\n",
              "    </tr>\n",
              "    <tr>\n",
              "      <th>39</th>\n",
              "      <td>40</td>\n",
              "      <td>coronavirus mutations</td>\n",
              "      <td>What are the observed mutations in the SARS-Co...</td>\n",
              "      <td>Looking for studies that describes the emergen...</td>\n",
              "    </tr>\n",
              "    <tr>\n",
              "      <th>40</th>\n",
              "      <td>41</td>\n",
              "      <td>COVID-19 in African-Americans</td>\n",
              "      <td>What are the impacts of COVID-19 among African...</td>\n",
              "      <td>Looking for studies that analyze burden of ill...</td>\n",
              "    </tr>\n",
              "    <tr>\n",
              "      <th>41</th>\n",
              "      <td>42</td>\n",
              "      <td>Vitamin D and COVID-19</td>\n",
              "      <td>Does Vitamin D impact COVID-19 prevention and ...</td>\n",
              "      <td>This includes studies describing possible role...</td>\n",
              "    </tr>\n",
              "    <tr>\n",
              "      <th>42</th>\n",
              "      <td>43</td>\n",
              "      <td>violence during pandemic</td>\n",
              "      <td>How has the COVID-19 pandemic impacted violenc...</td>\n",
              "      <td>Looking for analyses and data on how the pande...</td>\n",
              "    </tr>\n",
              "    <tr>\n",
              "      <th>43</th>\n",
              "      <td>44</td>\n",
              "      <td>impact of masks on coronavirus transmission</td>\n",
              "      <td>How much impact do masks have on preventing th...</td>\n",
              "      <td>Looking for studies of how masks slow SARS-CoV...</td>\n",
              "    </tr>\n",
              "    <tr>\n",
              "      <th>44</th>\n",
              "      <td>45</td>\n",
              "      <td>coronavirus mental health impact</td>\n",
              "      <td>How has the COVID-19 pandemic impacted mental ...</td>\n",
              "      <td>Includes increasing/decreasing rates of depres...</td>\n",
              "    </tr>\n",
              "    <tr>\n",
              "      <th>45</th>\n",
              "      <td>46</td>\n",
              "      <td>dexamethasone coronavirus</td>\n",
              "      <td>what evidence is there for dexamethasone as a ...</td>\n",
              "      <td>Looking for studies on the impact of dexametha...</td>\n",
              "    </tr>\n",
              "    <tr>\n",
              "      <th>46</th>\n",
              "      <td>47</td>\n",
              "      <td>COVID-19 outcomes in children</td>\n",
              "      <td>what are the health outcomes for children who ...</td>\n",
              "      <td>Looking for studies on health outcomes in chil...</td>\n",
              "    </tr>\n",
              "    <tr>\n",
              "      <th>47</th>\n",
              "      <td>48</td>\n",
              "      <td>school reopening coronavirus</td>\n",
              "      <td>what are the benefits and risks of re-opening ...</td>\n",
              "      <td>With the possibility of schools re-opening whi...</td>\n",
              "    </tr>\n",
              "    <tr>\n",
              "      <th>48</th>\n",
              "      <td>49</td>\n",
              "      <td>post-infection COVID-19 immunity</td>\n",
              "      <td>do individuals who recover from COVID-19 show ...</td>\n",
              "      <td>There is concern about re-infection for COVID-...</td>\n",
              "    </tr>\n",
              "    <tr>\n",
              "      <th>49</th>\n",
              "      <td>50</td>\n",
              "      <td>mRNA vaccine coronavirus</td>\n",
              "      <td>what is known about an mRNA vaccine for the SA...</td>\n",
              "      <td>Looking for studies specifically focusing on m...</td>\n",
              "    </tr>\n",
              "  </tbody>\n",
              "</table>\n",
              "</div>"
            ],
            "text/plain": [
              "   query_id  ...                                          narrative\n",
              "0         1  ...  seeking range of information about the SARS-Co...\n",
              "1         2  ...  seeking range of information about the SARS-Co...\n",
              "2         3  ...  seeking studies of immunity developed due to i...\n",
              "3         4  ...  Studies looking at mechanisms of death from Co...\n",
              "4         5  ...  Papers that describe the results  of testing d...\n",
              "5         6  ...  Looking for studies identifying ways to diagno...\n",
              "6         7  ...  Looking for assays that measure immune respons...\n",
              "7         8  ...  Looking for studies answering questions of imp...\n",
              "8         9  ...  seeking data related to infections (confirm, s...\n",
              "9        10  ...  seeking specific information on studies that h...\n",
              "10       11  ...  Seeking information on any guidelines for prio...\n",
              "11       12  ...  Seeking information on best practices for acti...\n",
              "12       13  ...  Looking for information on all possible ways t...\n",
              "13       14  ...  seeking range of information related to the nu...\n",
              "14       15  ...  seeking range of information on the SARS-CoV-2...\n",
              "15       16  ...  Studies of time SARS-CoV-2 remains stable afte...\n",
              "16       17  ...  seeking specific COVID-19 clinical trials rang...\n",
              "17       18  ...  What types of masks should or should not be us...\n",
              "18       19  ...  Studies assessing chemicals and their concentr...\n",
              "19       20  ...  Looking for information on interactions betwee...\n",
              "20       21  ...  Seeking  information on COVID-19 fatality rate...\n",
              "21       22  ...  Seeking information on the types, frequency an...\n",
              "22       23  ...  seeking specific outcomes that hypertensive  (...\n",
              "23       24  ...  seeking specific outcomes that diabetic (any t...\n",
              "24       25  ...  Looking for information on biomarkers that pre...\n",
              "25       26  ...  Studies of patients and the first clinical man...\n",
              "26       27  ...  Studies of people who are known to be infected...\n",
              "27       28  ...  Basic science or clinical studies assessing th...\n",
              "28       29  ...  Seeking information about protein-protein inte...\n",
              "29       30  ...  seeking specific information on clinical outco...\n",
              "30       31  ...  Includes studies ranging from those focusing o...\n",
              "31       32  ...  Papers that discuss subtypes of the virus, fro...\n",
              "32       33  ...  Seeking studies that discuss possible, but spe...\n",
              "33       34  ...  Seeking information on the health outcomes for...\n",
              "34       35  ...  Seeking articles that specifically release new...\n",
              "35       36  ...  Looking for studies of the structure of the sp...\n",
              "36       37  ...  Looking for a range of studies which provide t...\n",
              "37       38  ...  Looking for a range of studies which describes...\n",
              "38       39  ...  Looking for studies that describes mechanism o...\n",
              "39       40  ...  Looking for studies that describes the emergen...\n",
              "40       41  ...  Looking for studies that analyze burden of ill...\n",
              "41       42  ...  This includes studies describing possible role...\n",
              "42       43  ...  Looking for analyses and data on how the pande...\n",
              "43       44  ...  Looking for studies of how masks slow SARS-CoV...\n",
              "44       45  ...  Includes increasing/decreasing rates of depres...\n",
              "45       46  ...  Looking for studies on the impact of dexametha...\n",
              "46       47  ...  Looking for studies on health outcomes in chil...\n",
              "47       48  ...  With the possibility of schools re-opening whi...\n",
              "48       49  ...  There is concern about re-infection for COVID-...\n",
              "49       50  ...  Looking for studies specifically focusing on m...\n",
              "\n",
              "[50 rows x 4 columns]"
            ]
          },
          "metadata": {
            "tags": []
          },
          "execution_count": 14
        }
      ]
    },
    {
      "cell_type": "markdown",
      "metadata": {
        "id": "x8guincjNQA1"
      },
      "source": [
        "Again, we can [check the documentation](https://ir-datasets.com/cord19.html#cord19/trec-covid) for information about what fields are available. Or we can use `queries_cls()`:"
      ]
    },
    {
      "cell_type": "code",
      "metadata": {
        "colab": {
          "base_uri": "https://localhost:8080/"
        },
        "id": "lxSvF03NM2Dt",
        "outputId": "d2ca9dd1-5914-4697-d8b4-8b904c85902a"
      },
      "source": [
        "dataset.queries_cls()"
      ],
      "execution_count": 15,
      "outputs": [
        {
          "output_type": "execute_result",
          "data": {
            "text/plain": [
              "ir_datasets.formats.trec.TrecQuery"
            ]
          },
          "metadata": {
            "tags": []
          },
          "execution_count": 15
        }
      ]
    },
    {
      "cell_type": "code",
      "metadata": {
        "colab": {
          "base_uri": "https://localhost:8080/"
        },
        "id": "BRBNpFHZNK70",
        "outputId": "5142178d-5844-4224-e5b1-c7547d7dec86"
      },
      "source": [
        "dataset.queries_cls()._fields"
      ],
      "execution_count": 16,
      "outputs": [
        {
          "output_type": "execute_result",
          "data": {
            "text/plain": [
              "('query_id', 'title', 'description', 'narrative')"
            ]
          },
          "metadata": {
            "tags": []
          },
          "execution_count": 16
        }
      ]
    },
    {
      "cell_type": "code",
      "metadata": {
        "colab": {
          "base_uri": "https://localhost:8080/"
        },
        "id": "PycaUfckNM80",
        "outputId": "1a5f74a7-1131-4937-e3e5-1ae06e8015cd"
      },
      "source": [
        "dataset.queries_cls().__annotations__"
      ],
      "execution_count": 17,
      "outputs": [
        {
          "output_type": "execute_result",
          "data": {
            "text/plain": [
              "OrderedDict([('query_id', str),\n",
              "             ('title', str),\n",
              "             ('description', str),\n",
              "             ('narrative', str)])"
            ]
          },
          "metadata": {
            "tags": []
          },
          "execution_count": 17
        }
      ]
    },
    {
      "cell_type": "markdown",
      "metadata": {
        "id": "p5IA74C3Nlr0"
      },
      "source": [
        "## Query Relevance Assessments\n",
        "\n",
        "`qrels` (query relevance assessments/judgments) map a `query_id` and `doc_id` to a relevance score.\n",
        "\n",
        "You probably guessed it; we can fetch qrels for a dataset with `qrels_iter()`. There's a lot of them, so we'll just show them in a DataFrame to start with:"
      ]
    },
    {
      "cell_type": "code",
      "metadata": {
        "colab": {
          "base_uri": "https://localhost:8080/",
          "height": 424
        },
        "id": "VYldukNANN8I",
        "outputId": "998a629b-89f2-4d23-9de9-4289c92e3287"
      },
      "source": [
        "pd.DataFrame(dataset.qrels_iter())"
      ],
      "execution_count": 18,
      "outputs": [
        {
          "output_type": "execute_result",
          "data": {
            "text/html": [
              "<div>\n",
              "<style scoped>\n",
              "    .dataframe tbody tr th:only-of-type {\n",
              "        vertical-align: middle;\n",
              "    }\n",
              "\n",
              "    .dataframe tbody tr th {\n",
              "        vertical-align: top;\n",
              "    }\n",
              "\n",
              "    .dataframe thead th {\n",
              "        text-align: right;\n",
              "    }\n",
              "</style>\n",
              "<table border=\"1\" class=\"dataframe\">\n",
              "  <thead>\n",
              "    <tr style=\"text-align: right;\">\n",
              "      <th></th>\n",
              "      <th>query_id</th>\n",
              "      <th>doc_id</th>\n",
              "      <th>relevance</th>\n",
              "      <th>iteration</th>\n",
              "    </tr>\n",
              "  </thead>\n",
              "  <tbody>\n",
              "    <tr>\n",
              "      <th>0</th>\n",
              "      <td>1</td>\n",
              "      <td>005b2j4b</td>\n",
              "      <td>2</td>\n",
              "      <td>4.5</td>\n",
              "    </tr>\n",
              "    <tr>\n",
              "      <th>1</th>\n",
              "      <td>1</td>\n",
              "      <td>00fmeepz</td>\n",
              "      <td>1</td>\n",
              "      <td>4</td>\n",
              "    </tr>\n",
              "    <tr>\n",
              "      <th>2</th>\n",
              "      <td>1</td>\n",
              "      <td>010vptx3</td>\n",
              "      <td>2</td>\n",
              "      <td>0.5</td>\n",
              "    </tr>\n",
              "    <tr>\n",
              "      <th>3</th>\n",
              "      <td>1</td>\n",
              "      <td>0194oljo</td>\n",
              "      <td>1</td>\n",
              "      <td>2.5</td>\n",
              "    </tr>\n",
              "    <tr>\n",
              "      <th>4</th>\n",
              "      <td>1</td>\n",
              "      <td>021q9884</td>\n",
              "      <td>1</td>\n",
              "      <td>4</td>\n",
              "    </tr>\n",
              "    <tr>\n",
              "      <th>...</th>\n",
              "      <td>...</td>\n",
              "      <td>...</td>\n",
              "      <td>...</td>\n",
              "      <td>...</td>\n",
              "    </tr>\n",
              "    <tr>\n",
              "      <th>69313</th>\n",
              "      <td>50</td>\n",
              "      <td>zvop8bxh</td>\n",
              "      <td>2</td>\n",
              "      <td>5</td>\n",
              "    </tr>\n",
              "    <tr>\n",
              "      <th>69314</th>\n",
              "      <td>50</td>\n",
              "      <td>zwf26o63</td>\n",
              "      <td>1</td>\n",
              "      <td>5</td>\n",
              "    </tr>\n",
              "    <tr>\n",
              "      <th>69315</th>\n",
              "      <td>50</td>\n",
              "      <td>zwsvlnwe</td>\n",
              "      <td>0</td>\n",
              "      <td>5</td>\n",
              "    </tr>\n",
              "    <tr>\n",
              "      <th>69316</th>\n",
              "      <td>50</td>\n",
              "      <td>zxr01yln</td>\n",
              "      <td>1</td>\n",
              "      <td>5</td>\n",
              "    </tr>\n",
              "    <tr>\n",
              "      <th>69317</th>\n",
              "      <td>50</td>\n",
              "      <td>zz8wvos9</td>\n",
              "      <td>1</td>\n",
              "      <td>5</td>\n",
              "    </tr>\n",
              "  </tbody>\n",
              "</table>\n",
              "<p>69318 rows × 4 columns</p>\n",
              "</div>"
            ],
            "text/plain": [
              "      query_id    doc_id  relevance iteration\n",
              "0            1  005b2j4b          2       4.5\n",
              "1            1  00fmeepz          1         4\n",
              "2            1  010vptx3          2       0.5\n",
              "3            1  0194oljo          1       2.5\n",
              "4            1  021q9884          1         4\n",
              "...        ...       ...        ...       ...\n",
              "69313       50  zvop8bxh          2         5\n",
              "69314       50  zwf26o63          1         5\n",
              "69315       50  zwsvlnwe          0         5\n",
              "69316       50  zxr01yln          1         5\n",
              "69317       50  zz8wvos9          1         5\n",
              "\n",
              "[69318 rows x 4 columns]"
            ]
          },
          "metadata": {
            "tags": []
          },
          "execution_count": 18
        }
      ]
    },
    {
      "cell_type": "markdown",
      "metadata": {
        "id": "piCD2tZkOGaQ"
      },
      "source": [
        "What does relevance=0, 1, and 2 mean? You can find out with `qrels_defs`:"
      ]
    },
    {
      "cell_type": "code",
      "metadata": {
        "colab": {
          "base_uri": "https://localhost:8080/"
        },
        "id": "Fy_xf2vQN-Jx",
        "outputId": "4b6264db-7483-4630-a558-a36c8d7420c8"
      },
      "source": [
        "dataset.qrels_defs()"
      ],
      "execution_count": 19,
      "outputs": [
        {
          "output_type": "execute_result",
          "data": {
            "text/plain": [
              "{0: 'Not Relevant: everything else.',\n",
              " 1: 'Partially Relevant: the article answers part of the question but would need to be combined with other information to get a complete answer.',\n",
              " 2: 'Relevant: the article is fully responsive to the information need as expressed by the topic, i.e. answers the Question in the topic. The article need not contain all information on the topic, but must, on its own, provide an answer to the question.'}"
            ]
          },
          "metadata": {
            "tags": []
          },
          "execution_count": 19
        }
      ]
    },
    {
      "cell_type": "markdown",
      "metadata": {
        "id": "B8noJu7xOQ23"
      },
      "source": [
        "Of course we can also get information about the `TrecQrel` type using `qrels_cls()`:"
      ]
    },
    {
      "cell_type": "code",
      "metadata": {
        "colab": {
          "base_uri": "https://localhost:8080/"
        },
        "id": "0q8oZBIQOEnX",
        "outputId": "64ff29a9-e273-4ead-b94d-f5b5aa8eda48"
      },
      "source": [
        "dataset.qrels_cls()"
      ],
      "execution_count": 20,
      "outputs": [
        {
          "output_type": "execute_result",
          "data": {
            "text/plain": [
              "ir_datasets.formats.trec.TrecQrel"
            ]
          },
          "metadata": {
            "tags": []
          },
          "execution_count": 20
        }
      ]
    },
    {
      "cell_type": "code",
      "metadata": {
        "colab": {
          "base_uri": "https://localhost:8080/"
        },
        "id": "4tJ_aXCBOYBG",
        "outputId": "479d1dc0-5d02-429c-a243-7b24feda1e4e"
      },
      "source": [
        "dataset.qrels_cls()._fields"
      ],
      "execution_count": 21,
      "outputs": [
        {
          "output_type": "execute_result",
          "data": {
            "text/plain": [
              "('query_id', 'doc_id', 'relevance', 'iteration')"
            ]
          },
          "metadata": {
            "tags": []
          },
          "execution_count": 21
        }
      ]
    },
    {
      "cell_type": "code",
      "metadata": {
        "colab": {
          "base_uri": "https://localhost:8080/"
        },
        "id": "QAImnTAtOZoz",
        "outputId": "dbf62766-db08-424e-c3fa-a22634500907"
      },
      "source": [
        "dataset.qrels_cls().__annotations__"
      ],
      "execution_count": 22,
      "outputs": [
        {
          "output_type": "execute_result",
          "data": {
            "text/plain": [
              "OrderedDict([('query_id', str),\n",
              "             ('doc_id', str),\n",
              "             ('relevance', int),\n",
              "             ('iteration', str)])"
            ]
          },
          "metadata": {
            "tags": []
          },
          "execution_count": 22
        }
      ]
    },
    {
      "cell_type": "markdown",
      "metadata": {
        "id": "GQb4jO-HOf6q"
      },
      "source": [
        "## Wrapping Up\n",
        "\n",
        "So that's the core functionality. You can find more information in the [documentation](https://ir-datasets.com/)."
      ]
    },
    {
      "cell_type": "code",
      "metadata": {
        "id": "EldJW1rhObGy"
      },
      "source": [
        ""
      ],
      "execution_count": 22,
      "outputs": []
    }
  ]
}