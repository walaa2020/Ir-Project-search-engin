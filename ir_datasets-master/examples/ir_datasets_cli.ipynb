{
  "nbformat": 4,
  "nbformat_minor": 0,
  "metadata": {
    "colab": {
      "name": "ir_datasets-cli.ipynb",
      "provenance": []
    },
    "kernelspec": {
      "name": "python3",
      "display_name": "Python 3"
    }
  },
  "cells": [
    {
      "cell_type": "markdown",
      "metadata": {
        "id": "SP6ophbQq5I0"
      },
      "source": [
        "# ir_datasets - Tutorial - CLI\n",
        "\n",
        "**NOTE: This tutorial is for the command-line interface. See the other tutorial for Python.**"
      ]
    },
    {
      "cell_type": "markdown",
      "metadata": {
        "id": "cl8KYrJTq-g0"
      },
      "source": [
        "## Getting Started\n",
        "\n",
        "We'll start out by installing the package. The package is available on pypi,\n",
        "so you can install it with your favorite package manager."
      ]
    },
    {
      "cell_type": "code",
      "metadata": {
        "colab": {
          "base_uri": "https://localhost:8080/"
        },
        "id": "vbGhAIREqw1c",
        "outputId": "1d7fcdb3-93a2-4668-fd7d-787d1471f648"
      },
      "source": [
        "!pip install ir_datasets"
      ],
      "execution_count": 1,
      "outputs": [
        {
          "output_type": "stream",
          "text": [
            "Requirement already satisfied: ir_datasets in /usr/local/lib/python3.7/dist-packages (0.3.1)\n",
            "Requirement already satisfied: tqdm>=4.38.0 in /usr/local/lib/python3.7/dist-packages (from ir_datasets) (4.41.1)\n",
            "Requirement already satisfied: warc3-wet>=0.2.3 in /usr/local/lib/python3.7/dist-packages (from ir_datasets) (0.2.3)\n",
            "Requirement already satisfied: warc3-wet-clueweb09>=0.2.5 in /usr/local/lib/python3.7/dist-packages (from ir_datasets) (0.2.5)\n",
            "Requirement already satisfied: beautifulsoup4>=4.4.1 in /usr/local/lib/python3.7/dist-packages (from ir_datasets) (4.6.3)\n",
            "Requirement already satisfied: requests>=2.22.0 in /usr/local/lib/python3.7/dist-packages (from ir_datasets) (2.23.0)\n",
            "Requirement already satisfied: lz4>=3.1.1 in /usr/local/lib/python3.7/dist-packages (from ir_datasets) (3.1.3)\n",
            "Requirement already satisfied: ijson>=3.1.3 in /usr/local/lib/python3.7/dist-packages (from ir_datasets) (3.1.4)\n",
            "Requirement already satisfied: pyyaml>=5.3.1 in /usr/local/lib/python3.7/dist-packages (from ir_datasets) (5.4.1)\n",
            "Requirement already satisfied: zlib-state>=0.1.3 in /usr/local/lib/python3.7/dist-packages (from ir_datasets) (0.1.3)\n",
            "Requirement already satisfied: lxml>=4.5.2 in /usr/local/lib/python3.7/dist-packages (from ir_datasets) (4.6.2)\n",
            "Requirement already satisfied: trec-car-tools>=2.5.3 in /usr/local/lib/python3.7/dist-packages (from ir_datasets) (2.5.3)\n",
            "Requirement already satisfied: numpy>=1.18.1 in /usr/local/lib/python3.7/dist-packages (from ir_datasets) (1.19.5)\n",
            "Requirement already satisfied: urllib3!=1.25.0,!=1.25.1,<1.26,>=1.21.1 in /usr/local/lib/python3.7/dist-packages (from requests>=2.22.0->ir_datasets) (1.24.3)\n",
            "Requirement already satisfied: chardet<4,>=3.0.2 in /usr/local/lib/python3.7/dist-packages (from requests>=2.22.0->ir_datasets) (3.0.4)\n",
            "Requirement already satisfied: certifi>=2017.4.17 in /usr/local/lib/python3.7/dist-packages (from requests>=2.22.0->ir_datasets) (2020.12.5)\n",
            "Requirement already satisfied: idna<3,>=2.5 in /usr/local/lib/python3.7/dist-packages (from requests>=2.22.0->ir_datasets) (2.10)\n",
            "Requirement already satisfied: cbor>=1.0.0 in /usr/local/lib/python3.7/dist-packages (from trec-car-tools>=2.5.3->ir_datasets) (1.0.0)\n",
            "Requirement already satisfied: typing>=3.6.2 in /usr/local/lib/python3.7/dist-packages (from trec-car-tools>=2.5.3->ir_datasets) (3.7.4.3)\n"
          ],
          "name": "stdout"
        }
      ]
    },
    {
      "cell_type": "markdown",
      "metadata": {
        "id": "7v_X6XqlrTan"
      },
      "source": [
        "## export\n",
        "\n",
        "The `ir_datasets export` command outputs data to stdout as TSV,\n",
        "JSON, and other formats.\n",
        "\n",
        "The command format is:\n",
        "\n",
        "```\n",
        "ir_datasets export <dataset-id> <entity-type>\n",
        "```\n",
        "\n",
        "with optional other arguments following entity-type.\n",
        "\n",
        "`<dataset-id>` is the dataset's identifier, found [in the catalog](https://ir-datasets.com/). `<entity-type>` is one of: `docs`, `queries`, `qrels`, `scoreddocs`."
      ]
    },
    {
      "cell_type": "markdown",
      "metadata": {
        "id": "myI4M6OCsJQL"
      },
      "source": [
        "Let's start by getting the top 10 documents from the `cord19/trec-covid` collection. The first time you run the command, it will automatically download the dataset.\n"
      ]
    },
    {
      "cell_type": "code",
      "metadata": {
        "colab": {
          "base_uri": "https://localhost:8080/"
        },
        "id": "wt-QU7q1q-Mn",
        "outputId": "469d6b3f-4a0f-44db-a42b-ee8fef1232fe"
      },
      "source": [
        "!ir_datasets export cord19/trec-covid docs | head -n 10"
      ],
      "execution_count": 2,
      "outputs": [
        {
          "output_type": "stream",
          "text": [
            "[INFO] No fields supplied. Using all fields: ('doc_id', 'title', 'doi', 'date', 'abstract')\n",
            "ug7v899j\tClinical features of culture-proven Mycoplasma pneumoniae infections at King Abdulaziz University Hospital, Jeddah, Saudi Arabia\t10.1186/1471-2334-1-6\t2001-07-04\tOBJECTIVE: This retrospective chart review describes the epidemiology and clinical features of 40 patients with culture-proven Mycoplasma pneumoniae infections at King Abdulaziz University Hospital, Jeddah, Saudi Arabia. METHODS: Patients with positive M. pneumoniae cultures from respiratory specimens from January 1997 through December 1998 were identified through the Microbiology records. Charts of patients were reviewed. RESULTS: 40 patients were identified, 33 (82.5%) of whom required admission. Most infections (92.5%) were community-acquired. The infection affected all age groups but was most common in infants (32.5%) and pre-school children (22.5%). It occurred year-round but was most common in the fall (35%) and spring (30%). More than three-quarters of patients (77.5%) had comorbidities. Twenty-four isolates (60%) were associated with pneumonia, 14 (35%) with upper respiratory tract infections, and 2 (5%) with bronchiolitis. Cough (82.5%), fever (75%), and malaise (58.8%) were the most common symptoms, and crepitations (60%), and wheezes (40%) were the most common signs. Most patients with pneumonia had crepitations (79.2%) but only 25% had bronchial breathing. Immunocompromised patients were more likely than non-immunocompromised patients to present with pneumonia (8/9 versus 16/31, P = 0.05). Of the 24 patients with pneumonia, 14 (58.3%) had uneventful recovery, 4 (16.7%) recovered following some complications, 3 (12.5%) died because of M pneumoniae infection, and 3 (12.5%) died due to underlying comorbidities. The 3 patients who died of M pneumoniae pneumonia had other comorbidities. CONCLUSION: our results were similar to published data except for the finding that infections were more common in infants and preschool children and that the mortality rate of pneumonia in patients with comorbidities was high.\n",
            "02tnwd4m\tNitric oxide: a pro-inflammatory mediator in lung disease?\t10.1186/rr14\t2000-08-15\tInflammatory diseases of the respiratory tract are commonly associated with elevated production of nitric oxide (NO•) and increased indices of NO• -dependent oxidative stress. Although NO• is known to have anti-microbial, anti-inflammatory and anti-oxidant properties, various lines of evidence support the contribution of NO• to lung injury in several disease models. On the basis of biochemical evidence, it is often presumed that such NO• -dependent oxidations are due to the formation of the oxidant peroxynitrite, although alternative mechanisms involving the phagocyte-derived heme proteins myeloperoxidase and eosinophil peroxidase might be operative during conditions of inflammation. Because of the overwhelming literature on NO• generation and activities in the respiratory tract, it would be beyond the scope of this commentary to review this area comprehensively. Instead, it focuses on recent evidence and concepts of the presumed contribution of NO• to inflammatory diseases of the lung.\n",
            "ejv2xln0\tSurfactant protein-D and pulmonary host defense\t10.1186/rr19\t2000-08-25\tSurfactant protein-D (SP-D) participates in the innate response to inhaled microorganisms and organic antigens, and contributes to immune and inflammatory regulation within the lung. SP-D is synthesized and secreted by alveolar and bronchiolar epithelial cells, but is also expressed by epithelial cells lining various exocrine ducts and the mucosa of the gastrointestinal and genitourinary tracts. SP-D, a collagenous calcium-dependent lectin (or collectin), binds to surface glycoconjugates expressed by a wide variety of microorganisms, and to oligosaccharides associated with the surface of various complex organic antigens. SP-D also specifically interacts with glycoconjugates and other molecules expressed on the surface of macrophages, neutrophils, and lymphocytes. In addition, SP-D binds to specific surfactant-associated lipids and can influence the organization of lipid mixtures containing phosphatidylinositol in vitro. Consistent with these diverse in vitro activities is the observation that SP-D-deficient transgenic mice show abnormal accumulations of surfactant lipids, and respond abnormally to challenge with respiratory viruses and bacterial lipopolysaccharides. The phenotype of macrophages isolated from the lungs of SP-D-deficient mice is altered, and there is circumstantial evidence that abnormal oxidant metabolism and/or increased metalloproteinase expression contributes to the development of emphysema. The expression of SP-D is increased in response to many forms of lung injury, and deficient accumulation of appropriately oligomerized SP-D might contribute to the pathogenesis of a variety of human lung diseases.\n",
            "2b73a28n\tRole of endothelin-1 in lung disease\t10.1186/rr44\t2001-02-22\tEndothelin-1 (ET-1) is a 21 amino acid peptide with diverse biological activity that has been implicated in numerous diseases. ET-1 is a potent mitogen regulator of smooth muscle tone, and inflammatory mediator that may play a key role in diseases of the airways, pulmonary circulation, and inflammatory lung diseases, both acute and chronic. This review will focus on the biology of ET-1 and its role in lung disease.\n",
            "9785vg6d\tGene expression in epithelial cells in response to pneumovirus infection\t10.1186/rr61\t2001-05-11\tRespiratory syncytial virus (RSV) and pneumonia virus of mice (PVM) are viruses of the family Paramyxoviridae, subfamily pneumovirus, which cause clinically important respiratory infections in humans and rodents, respectively. The respiratory epithelial target cells respond to viral infection with specific alterations in gene expression, including production of chemoattractant cytokines, adhesion molecules, elements that are related to the apoptosis response, and others that remain incompletely understood. Here we review our current understanding of these mucosal responses and discuss several genomic approaches, including differential display reverse transcription-polymerase chain reaction (PCR) and gene array strategies, that will permit us to unravel the nature of these responses in a more complete and systematic manner.\n",
            "zjufx4fo\tSequence requirements for RNA strand transfer during nidovirus discontinuous subgenomic RNA synthesis\t10.1093/emboj/20.24.7220\t2001-12-17\tNidovirus subgenomic mRNAs contain a leader sequence derived from the 5′ end of the genome fused to different sequences (‘bodies’) derived from the 3′ end. Their generation involves a unique mechanism of discontinuous subgenomic RNA synthesis that resembles copy-choice RNA recombination. During this process, the nascent RNA strand is transferred from one site in the template to another, during either plus or minus strand synthesis, to yield subgenomic RNA molecules. Central to this process are transcription-regulating sequences (TRSs), which are present at both template sites and ensure the fidelity of strand transfer. Here we present results of a comprehensive co-variation mutagenesis study of equine arteritis virus TRSs, demonstrating that discontinuous RNA synthesis depends not only on base pairing between sense leader TRS and antisense body TRS, but also on the primary sequence of the body TRS. While the leader TRS merely plays a targeting role for strand transfer, the body TRS fulfils multiple functions. The sequences of mRNA leader–body junctions of TRS mutants strongly suggested that the discontinuous step occurs during minus strand synthesis.\n",
            "5yhe786e\tDebate: Transfusing to normal haemoglobin levels will not improve outcome\t10.1186/cc987\t2001-03-08\tRecent evidence suggests that critically ill patients are able to tolerate lower levels of haemoglobin than was previously believed. It is our goal to show that transfusing to a level of 100 g/l does not improve mortality and other clinically important outcomes in a critical care setting. Although many questions remain, many laboratory and clinical studies, including a recent randomized controlled trial (RCT), have established that transfusing to normal haemoglobin concentrations does not improve organ failure and mortality in the critically ill patient. In addition, a restrictive transfusion strategy will reduce exposure to allogeneic transfusions, result in more efficient use of red blood cells (RBCs), save blood overall, and decrease health care costs.\n",
            "8zchiykl\tThe 21st International Symposium on Intensive Care and Emergency Medicine, Brussels, Belgium, 20-23 March 2001\t10.1186/cc1013\t2001-05-02\tThe 21st International Symposium on Intensive Care and Emergency Medicine was dominated by the results of recent clinical trials in sepsis and acute respiratory distress syndrome (ARDS). The promise of extracorporeal liver replacement therapy and noninvasive ventilation were other areas of interest. Ethical issues also received attention. Overall, the 'state of the art' lectures, pro/con debates, seminars and tutorials were of a high standard. The meeting was marked by a sense of renewed enthusiasm that positive progress is occurring in intensive care medicine.\n",
            "8qnrcgnk\tHeme oxygenase-1 and carbon monoxide in pulmonary medicine\t10.1186/1465-9921-4-7\t2003-08-07\tHeme oxygenase-1 (HO-1), an inducible stress protein, confers cytoprotection against oxidative stress in vitro and in vivo. In addition to its physiological role in heme degradation, HO-1 may influence a number of cellular processes, including growth, inflammation, and apoptosis. By virtue of anti-inflammatory effects, HO-1 limits tissue damage in response to proinflammatory stimuli and prevents allograft rejection after transplantation. The transcriptional upregulation of HO-1 responds to many agents, such as hypoxia, bacterial lipopolysaccharide, and reactive oxygen/nitrogen species. HO-1 and its constitutively expressed isozyme, heme oxygenase-2, catalyze the rate-limiting step in the conversion of heme to its metabolites, bilirubin IXα, ferrous iron, and carbon monoxide (CO). The mechanisms by which HO-1 provides protection most likely involve its enzymatic reaction products. Remarkably, administration of CO at low concentrations can substitute for HO-1 with respect to anti-inflammatory and anti-apoptotic effects, suggesting a role for CO as a key mediator of HO-1 function. Chronic, low-level, exogenous exposure to CO from cigarette smoking contributes to the importance of CO in pulmonary medicine. The implications of the HO-1/CO system in pulmonary diseases will be discussed in this review, with an emphasis on inflammatory states.\n",
            "jg13scgo\tTechnical Description of RODS: A Real-time Public Health Surveillance System\t10.1197/jamia.m1345\t2003-09-01\tThis report describes the design and implementation of the Real-time Outbreak and Disease Surveillance (RODS) system, a computer-based public health surveillance system for early detection of disease outbreaks. Hospitals send RODS data from clinical encounters over virtual private networks and leased lines using the Health Level 7 (HL7) message protocol. The data are sent in real time. RODS automatically classifies the registration chief complaint from the visit into one of seven syndrome categories using Bayesian classifiers. It stores the data in a relational database, aggregates the data for analysis using data warehousing techniques, applies univariate and multivariate statistical detection algorithms to the data, and alerts users of when the algorithms identify anomalous patterns in the syndrome counts. RODS also has a Web-based user interface that supports temporal and spatial analyses. RODS processes sales of over-the-counter health care products in a similar manner but receives such data in batch mode on a daily basis. RODS was used during the 2002 Winter Olympics and currently operates in two states—Pennsylvania and Utah. It has been and continues to be a resource for implementing, evaluating, and applying new methods of public health surveillance.\n"
          ],
          "name": "stdout"
        }
      ]
    },
    {
      "cell_type": "markdown",
      "metadata": {
        "id": "HTQaik0isguS"
      },
      "source": [
        "You can export in other formats too. Here's an exporting in JSON-Lines."
      ]
    },
    {
      "cell_type": "code",
      "metadata": {
        "colab": {
          "base_uri": "https://localhost:8080/"
        },
        "id": "XaYh4lwLrTDZ",
        "outputId": "b50827d6-02e6-409c-bdcf-72dfbfdf1529"
      },
      "source": [
        "!ir_datasets export cord19/trec-covid docs --format jsonl | head -n 10"
      ],
      "execution_count": 3,
      "outputs": [
        {
          "output_type": "stream",
          "text": [
            "{\"doc_id\": \"ug7v899j\", \"title\": \"Clinical features of culture-proven Mycoplasma pneumoniae infections at King Abdulaziz University Hospital, Jeddah, Saudi Arabia\", \"doi\": \"10.1186/1471-2334-1-6\", \"date\": \"2001-07-04\", \"abstract\": \"OBJECTIVE: This retrospective chart review describes the epidemiology and clinical features of 40 patients with culture-proven Mycoplasma pneumoniae infections at King Abdulaziz University Hospital, Jeddah, Saudi Arabia. METHODS: Patients with positive M. pneumoniae cultures from respiratory specimens from January 1997 through December 1998 were identified through the Microbiology records. Charts of patients were reviewed. RESULTS: 40 patients were identified, 33 (82.5%) of whom required admission. Most infections (92.5%) were community-acquired. The infection affected all age groups but was most common in infants (32.5%) and pre-school children (22.5%). It occurred year-round but was most common in the fall (35%) and spring (30%). More than three-quarters of patients (77.5%) had comorbidities. Twenty-four isolates (60%) were associated with pneumonia, 14 (35%) with upper respiratory tract infections, and 2 (5%) with bronchiolitis. Cough (82.5%), fever (75%), and malaise (58.8%) were the most common symptoms, and crepitations (60%), and wheezes (40%) were the most common signs. Most patients with pneumonia had crepitations (79.2%) but only 25% had bronchial breathing. Immunocompromised patients were more likely than non-immunocompromised patients to present with pneumonia (8/9 versus 16/31, P = 0.05). Of the 24 patients with pneumonia, 14 (58.3%) had uneventful recovery, 4 (16.7%) recovered following some complications, 3 (12.5%) died because of M pneumoniae infection, and 3 (12.5%) died due to underlying comorbidities. The 3 patients who died of M pneumoniae pneumonia had other comorbidities. CONCLUSION: our results were similar to published data except for the finding that infections were more common in infants and preschool children and that the mortality rate of pneumonia in patients with comorbidities was high.\"}\n",
            "{\"doc_id\": \"02tnwd4m\", \"title\": \"Nitric oxide: a pro-inflammatory mediator in lung disease?\", \"doi\": \"10.1186/rr14\", \"date\": \"2000-08-15\", \"abstract\": \"Inflammatory diseases of the respiratory tract are commonly associated with elevated production of nitric oxide (NO\\u2022) and increased indices of NO\\u2022 -dependent oxidative stress. Although NO\\u2022 is known to have anti-microbial, anti-inflammatory and anti-oxidant properties, various lines of evidence support the contribution of NO\\u2022 to lung injury in several disease models. On the basis of biochemical evidence, it is often presumed that such NO\\u2022 -dependent oxidations are due to the formation of the oxidant peroxynitrite, although alternative mechanisms involving the phagocyte-derived heme proteins myeloperoxidase and eosinophil peroxidase might be operative during conditions of inflammation. Because of the overwhelming literature on NO\\u2022 generation and activities in the respiratory tract, it would be beyond the scope of this commentary to review this area comprehensively. Instead, it focuses on recent evidence and concepts of the presumed contribution of NO\\u2022 to inflammatory diseases of the lung.\"}\n",
            "{\"doc_id\": \"ejv2xln0\", \"title\": \"Surfactant protein-D and pulmonary host defense\", \"doi\": \"10.1186/rr19\", \"date\": \"2000-08-25\", \"abstract\": \"Surfactant protein-D (SP-D) participates in the innate response to inhaled microorganisms and organic antigens, and contributes to immune and inflammatory regulation within the lung. SP-D is synthesized and secreted by alveolar and bronchiolar epithelial cells, but is also expressed by epithelial cells lining various exocrine ducts and the mucosa of the gastrointestinal and genitourinary tracts. SP-D, a collagenous calcium-dependent lectin (or collectin), binds to surface glycoconjugates expressed by a wide variety of microorganisms, and to oligosaccharides associated with the surface of various complex organic antigens. SP-D also specifically interacts with glycoconjugates and other molecules expressed on the surface of macrophages, neutrophils, and lymphocytes. In addition, SP-D binds to specific surfactant-associated lipids and can influence the organization of lipid mixtures containing phosphatidylinositol in vitro. Consistent with these diverse in vitro activities is the observation that SP-D-deficient transgenic mice show abnormal accumulations of surfactant lipids, and respond abnormally to challenge with respiratory viruses and bacterial lipopolysaccharides. The phenotype of macrophages isolated from the lungs of SP-D-deficient mice is altered, and there is circumstantial evidence that abnormal oxidant metabolism and/or increased metalloproteinase expression contributes to the development of emphysema. The expression of SP-D is increased in response to many forms of lung injury, and deficient accumulation of appropriately oligomerized SP-D might contribute to the pathogenesis of a variety of human lung diseases.\"}\n",
            "{\"doc_id\": \"2b73a28n\", \"title\": \"Role of endothelin-1 in lung disease\", \"doi\": \"10.1186/rr44\", \"date\": \"2001-02-22\", \"abstract\": \"Endothelin-1 (ET-1) is a 21 amino acid peptide with diverse biological activity that has been implicated in numerous diseases. ET-1 is a potent mitogen regulator of smooth muscle tone, and inflammatory mediator that may play a key role in diseases of the airways, pulmonary circulation, and inflammatory lung diseases, both acute and chronic. This review will focus on the biology of ET-1 and its role in lung disease.\"}\n",
            "{\"doc_id\": \"9785vg6d\", \"title\": \"Gene expression in epithelial cells in response to pneumovirus infection\", \"doi\": \"10.1186/rr61\", \"date\": \"2001-05-11\", \"abstract\": \"Respiratory syncytial virus (RSV) and pneumonia virus of mice (PVM) are viruses of the family Paramyxoviridae, subfamily pneumovirus, which cause clinically important respiratory infections in humans and rodents, respectively. The respiratory epithelial target cells respond to viral infection with specific alterations in gene expression, including production of chemoattractant cytokines, adhesion molecules, elements that are related to the apoptosis response, and others that remain incompletely understood. Here we review our current understanding of these mucosal responses and discuss several genomic approaches, including differential display reverse transcription-polymerase chain reaction (PCR) and gene array strategies, that will permit us to unravel the nature of these responses in a more complete and systematic manner.\"}\n",
            "{\"doc_id\": \"zjufx4fo\", \"title\": \"Sequence requirements for RNA strand transfer during nidovirus discontinuous subgenomic RNA synthesis\", \"doi\": \"10.1093/emboj/20.24.7220\", \"date\": \"2001-12-17\", \"abstract\": \"Nidovirus subgenomic mRNAs contain a leader sequence derived from the 5\\u2032 end of the genome fused to different sequences (\\u2018bodies\\u2019) derived from the 3\\u2032 end. Their generation involves a unique mechanism of discontinuous subgenomic RNA synthesis that resembles copy-choice RNA recombination. During this process, the nascent RNA strand is transferred from one site in the template to another, during either plus or minus strand synthesis, to yield subgenomic RNA molecules. Central to this process are transcription-regulating sequences (TRSs), which are present at both template sites and ensure the fidelity of strand transfer. Here we present results of a comprehensive co-variation mutagenesis study of equine arteritis virus TRSs, demonstrating that discontinuous RNA synthesis depends not only on base pairing between sense leader TRS and antisense body TRS, but also on the primary sequence of the body TRS. While the leader TRS merely plays a targeting role for strand transfer, the body TRS fulfils multiple functions. The sequences of mRNA leader\\u2013body junctions of TRS mutants strongly suggested that the discontinuous step occurs during minus strand synthesis.\"}\n",
            "{\"doc_id\": \"5yhe786e\", \"title\": \"Debate: Transfusing to normal haemoglobin levels will not improve outcome\", \"doi\": \"10.1186/cc987\", \"date\": \"2001-03-08\", \"abstract\": \"Recent evidence suggests that critically ill patients are able to tolerate lower levels of haemoglobin than was previously believed. It is our goal to show that transfusing to a level of 100 g/l does not improve mortality and other clinically important outcomes in a critical care setting. Although many questions remain, many laboratory and clinical studies, including a recent randomized controlled trial (RCT), have established that transfusing to normal haemoglobin concentrations does not improve organ failure and mortality in the critically ill patient. In addition, a restrictive transfusion strategy will reduce exposure to allogeneic transfusions, result in more efficient use of red blood cells (RBCs), save blood overall, and decrease health care costs.\"}\n",
            "{\"doc_id\": \"8zchiykl\", \"title\": \"The 21st International Symposium on Intensive Care and Emergency Medicine, Brussels, Belgium, 20-23 March 2001\", \"doi\": \"10.1186/cc1013\", \"date\": \"2001-05-02\", \"abstract\": \"The 21st International Symposium on Intensive Care and Emergency Medicine was dominated by the results of recent clinical trials in sepsis and acute respiratory distress syndrome (ARDS). The promise of extracorporeal liver replacement therapy and noninvasive ventilation were other areas of interest. Ethical issues also received attention. Overall, the 'state of the art' lectures, pro/con debates, seminars and tutorials were of a high standard. The meeting was marked by a sense of renewed enthusiasm that positive progress is occurring in intensive care medicine.\"}\n",
            "{\"doc_id\": \"8qnrcgnk\", \"title\": \"Heme oxygenase-1 and carbon monoxide in pulmonary medicine\", \"doi\": \"10.1186/1465-9921-4-7\", \"date\": \"2003-08-07\", \"abstract\": \"Heme oxygenase-1 (HO-1), an inducible stress protein, confers cytoprotection against oxidative stress in vitro and in vivo. In addition to its physiological role in heme degradation, HO-1 may influence a number of cellular processes, including growth, inflammation, and apoptosis. By virtue of anti-inflammatory effects, HO-1 limits tissue damage in response to proinflammatory stimuli and prevents allograft rejection after transplantation. The transcriptional upregulation of HO-1 responds to many agents, such as hypoxia, bacterial lipopolysaccharide, and reactive oxygen/nitrogen species. HO-1 and its constitutively expressed isozyme, heme oxygenase-2, catalyze the rate-limiting step in the conversion of heme to its metabolites, bilirubin IX\\u03b1, ferrous iron, and carbon monoxide (CO). The mechanisms by which HO-1 provides protection most likely involve its enzymatic reaction products. Remarkably, administration of CO at low concentrations can substitute for HO-1 with respect to anti-inflammatory and anti-apoptotic effects, suggesting a role for CO as a key mediator of HO-1 function. Chronic, low-level, exogenous exposure to CO from cigarette smoking contributes to the importance of CO in pulmonary medicine. The implications of the HO-1/CO system in pulmonary diseases will be discussed in this review, with an emphasis on inflammatory states.\"}\n",
            "{\"doc_id\": \"jg13scgo\", \"title\": \"Technical Description of RODS: A Real-time Public Health Surveillance System\", \"doi\": \"10.1197/jamia.m1345\", \"date\": \"2003-09-01\", \"abstract\": \"This report describes the design and implementation of the Real-time Outbreak and Disease Surveillance (RODS) system, a computer-based public health surveillance system for early detection of disease outbreaks. Hospitals send RODS data from clinical encounters over virtual private networks and leased lines using the Health Level 7 (HL7) message protocol. The data are sent in real time. RODS automatically classifies the registration chief complaint from the visit into one of seven syndrome categories using Bayesian classifiers. It stores the data in a relational database, aggregates the data for analysis using data warehousing techniques, applies univariate and multivariate statistical detection algorithms to the data, and alerts users of when the algorithms identify anomalous patterns in the syndrome counts. RODS also has a Web-based user interface that supports temporal and spatial analyses. RODS processes sales of over-the-counter health care products in a similar manner but receives such data in batch mode on a daily basis. RODS was used during the 2002 Winter Olympics and currently operates in two states\\u2014Pennsylvania and Utah. It has been and continues to be a resource for implementing, evaluating, and applying new methods of public health surveillance.\"}\n"
          ],
          "name": "stdout"
        }
      ]
    },
    {
      "cell_type": "markdown",
      "metadata": {
        "id": "hhVG2gp6sqdZ"
      },
      "source": [
        "If you do not want all the fields, you can specify which ones with `--fields`:"
      ]
    },
    {
      "cell_type": "code",
      "metadata": {
        "colab": {
          "base_uri": "https://localhost:8080/"
        },
        "id": "kFI8UHbzq6Cu",
        "outputId": "a06ac0f5-2248-4c09-e5e6-f8b49f5cf29f"
      },
      "source": [
        "!ir_datasets export cord19/trec-covid docs --format jsonl --fields doc_id date | head -n 10"
      ],
      "execution_count": 4,
      "outputs": [
        {
          "output_type": "stream",
          "text": [
            "{\"doc_id\": \"ug7v899j\", \"date\": \"2001-07-04\"}\n",
            "{\"doc_id\": \"02tnwd4m\", \"date\": \"2000-08-15\"}\n",
            "{\"doc_id\": \"ejv2xln0\", \"date\": \"2000-08-25\"}\n",
            "{\"doc_id\": \"2b73a28n\", \"date\": \"2001-02-22\"}\n",
            "{\"doc_id\": \"9785vg6d\", \"date\": \"2001-05-11\"}\n",
            "{\"doc_id\": \"zjufx4fo\", \"date\": \"2001-12-17\"}\n",
            "{\"doc_id\": \"5yhe786e\", \"date\": \"2001-03-08\"}\n",
            "{\"doc_id\": \"8zchiykl\", \"date\": \"2001-05-02\"}\n",
            "{\"doc_id\": \"8qnrcgnk\", \"date\": \"2003-08-07\"}\n",
            "{\"doc_id\": \"jg13scgo\", \"date\": \"2003-09-01\"}\n"
          ],
          "name": "stdout"
        }
      ]
    },
    {
      "cell_type": "markdown",
      "metadata": {
        "id": "WUjwx7i1s5HD"
      },
      "source": [
        "The export command works the same way for `queries`, `qrels`, and `scoreddocs` (where available). By default, `qrels` and `scoreddocs` output in the TREC format. But you can choose to export as tsv or jsonl as well."
      ]
    },
    {
      "cell_type": "code",
      "metadata": {
        "colab": {
          "base_uri": "https://localhost:8080/"
        },
        "id": "JoeB2aresxAV",
        "outputId": "872f8a51-ceb2-4c29-84ba-eb503f58ce1d"
      },
      "source": [
        "!ir_datasets export cord19/trec-covid queries --fields query_id title | head -n 10"
      ],
      "execution_count": 5,
      "outputs": [
        {
          "output_type": "stream",
          "text": [
            "1\tcoronavirus origin\n",
            "2\tcoronavirus response to weather changes\n",
            "3\tcoronavirus immunity\n",
            "4\thow do people die from the coronavirus\n",
            "5\tanimal models of COVID-19\n",
            "6\tcoronavirus test rapid testing\n",
            "7\tserological tests for coronavirus\n",
            "8\tcoronavirus under reporting\n",
            "9\tcoronavirus in Canada\n",
            "10\tcoronavirus social distancing impact\n"
          ],
          "name": "stdout"
        }
      ]
    },
    {
      "cell_type": "code",
      "metadata": {
        "colab": {
          "base_uri": "https://localhost:8080/"
        },
        "id": "Me_hppfJtRxG",
        "outputId": "b2fdb388-7eea-4e47-f5ea-859e07fe1b74"
      },
      "source": [
        "!ir_datasets export cord19/trec-covid qrels | head -n 10"
      ],
      "execution_count": 6,
      "outputs": [
        {
          "output_type": "stream",
          "text": [
            "1 4.5 005b2j4b 2\n",
            "1 4 00fmeepz 1\n",
            "1 0.5 010vptx3 2\n",
            "1 2.5 0194oljo 1\n",
            "1 4 021q9884 1\n",
            "1 1 02f0opkr 1\n",
            "1 3.5 047xpt2c 0\n",
            "1 1 04ftw7k9 0\n",
            "1 1 05qglt1f 0\n",
            "1 3 05vx82oo 0\n"
          ],
          "name": "stdout"
        }
      ]
    },
    {
      "cell_type": "markdown",
      "metadata": {
        "id": "2zocHeB1tgKu"
      },
      "source": [
        "If you're savvy at the command line, piping can let you capture some dataset statistics pretty easily. Here's an example giving the label proportions using `awk`:"
      ]
    },
    {
      "cell_type": "code",
      "metadata": {
        "colab": {
          "base_uri": "https://localhost:8080/"
        },
        "id": "vqCnPJOVtaWl",
        "outputId": "6b041b9e-9b85-47bc-91c1-1595c9d5968b"
      },
      "source": [
        "!ir_datasets export cord19/trec-covid qrels | awk '{a[$4]+=1; s+=1}END{for (x in a){print x, a[x], a[x]/s}}'"
      ],
      "execution_count": 7,
      "outputs": [
        {
          "output_type": "stream",
          "text": [
            "-1 2 2.88525e-05\n",
            "0 42652 0.615309\n",
            "1 11055 0.159482\n",
            "2 15609 0.22518\n"
          ],
          "name": "stdout"
        }
      ]
    },
    {
      "cell_type": "markdown",
      "metadata": {
        "id": "IgE2qowjuZV8"
      },
      "source": [
        "## lookup\n",
        "\n",
        "You can look up documents by their ID with the `ir_datasets lookup` command. The command format is:\n",
        "\n",
        "```\n",
        "ir_datasets lookup <dataset-id> <doc-ids> ...\n",
        "```\n",
        "\n",
        "These lookups are generally O(1) and memory-efficient."
      ]
    },
    {
      "cell_type": "code",
      "metadata": {
        "colab": {
          "base_uri": "https://localhost:8080/"
        },
        "id": "dBrzCdwbtug4",
        "outputId": "cd3522f7-3acf-450b-ae68-ac72ce9f0877"
      },
      "source": [
        "!ir_datasets lookup cord19/trec-covid 005b2j4b 00fmeepz 010vptx3"
      ],
      "execution_count": 8,
      "outputs": [
        {
          "output_type": "stream",
          "text": [
            "[INFO] No fields supplied. Using all fields: ('doc_id', 'title', 'doi', 'date', 'abstract')\n",
            "005b2j4b\tMonophyletic Relationship between Severe Acute Respiratory Syndrome Coronavirus and Group 2 Coronaviruses\t10.1086/382892\t2004-05-01\tAlthough primary genomic analysis has revealed that severe acute respiratory syndrome coronavirus (SARS CoV) is a new type of coronavirus, the different protein trees published in previous reports have provided no conclusive evidence indicating the phylogenetic position of SARS CoV. To clarify the phylogenetic relationship between SARS CoV and other coronaviruses, we compiled a large data set composed of 7 concatenated protein sequences and performed comprehensive analyses, using the maximum-likelihood, Bayesian-inference, and maximum-parsimony methods. All resulting phylogenetic trees displayed an identical topology and supported the hypothesis that the relationship between SARS CoV and group 2 CoVs is monophyletic. Relationships among all major groups were well resolved and were supported by all statistical analyses.\n",
            "00fmeepz\tComprehensive overview of COVID-19 based on current evidence\t\t2020\tIn December 2019, twenty-seven pneumonia patients with unknown causes originated in South China seafood market in Wuhan. The virus infection spread rapidly and swept through China in less than a month. Subsequently, the virus was proven a novel coronavirus and named SARS-CoV-2. The outbreak of novel coronavirus has been determined as a Public Health Emergency of International Concern (PHEIC) by WHO on January 31, 2020. Similar to other coronaviruses like the Middle East Respiratory Syndrome (MERS) CoV and Severe Acute Respiratory Syndrome (SARS) CoV, the novel coronavirus was reported to spread via respiratory droplets and close contact from human to human, which means the virus is highly infectious and dangerous. Unfortunately, till now the virus has spread to over 200 countries/territories/areas around the world and the Coronavirus Disease 2019 (COVID-19) outbreak is continuing to grow. Currently, information sharing and transparency are essential for risk assessment and epidemic control in all endemic areas. In this article, we compared SARS-CoV-2 with SARS-CoV and influenza virus, discussed current researching progress of COVID-19, including clinical characteristics, pathological changes, treatment measures, and so on.\n",
            "010vptx3\tThe SARS, MERS and novel coronavirus (COVID-19) epidemics, the newest and biggest global health threats: what lessons have we learned?\t10.1093/ije/dyaa033\t2020-02-22\tOBJECTIVES: To provide an overview of the three major deadly coronaviruses and identify areas for improvement of future preparedness plans, as well as provide a critical assessment of the risk factors and actionable items for stopping their spread, utilizing lessons learned from the first two deadly coronavirus outbreaks, as well as initial reports from the current novel coronavirus (COVID-19) epidemic in Wuhan, China. METHODS: Utilizing the Centers for Disease Control and Prevention (CDC, USA) website, and a comprehensive review of PubMed literature, we obtained information regarding clinical signs and symptoms, treatment and diagnosis, transmission methods, protection methods and risk factors for Middle East Respiratory Syndrome (MERS), Severe Acute Respiratory Syndrome (SARS) and COVID-19. Comparisons between the viruses were made. RESULTS: Inadequate risk assessment regarding the urgency of the situation, and limited reporting on the virus within China has, in part, led to the rapid spread of COVID-19 throughout mainland China and into proximal and distant countries. Compared with SARS and MERS, COVID-19 has spread more rapidly, due in part to increased globalization and the focus of the epidemic. Wuhan, China is a large hub connecting the North, South, East and West of China via railways and a major international airport. The availability of connecting flights, the timing of the outbreak during the Chinese (Lunar) New Year, and the massive rail transit hub located in Wuhan has enabled the virus to perforate throughout China, and eventually, globally. CONCLUSIONS: We conclude that we did not learn from the two prior epidemics of coronavirus and were ill-prepared to deal with the challenges the COVID-19 epidemic has posed. Future research should attempt to address the uses and implications of internet of things (IoT) technologies for mapping the spread of infection.\n"
          ],
          "name": "stdout"
        }
      ]
    },
    {
      "cell_type": "markdown",
      "metadata": {
        "id": "v6leewIGvYKf"
      },
      "source": [
        "You can also specify the fields to return."
      ]
    },
    {
      "cell_type": "code",
      "metadata": {
        "colab": {
          "base_uri": "https://localhost:8080/"
        },
        "id": "GkVpdPsXvFIq",
        "outputId": "106acd40-9d69-495e-e9f8-7191b1c81d78"
      },
      "source": [
        "!ir_datasets lookup cord19/trec-covid 005b2j4b 00fmeepz 010vptx3 --fields doc_id title"
      ],
      "execution_count": 9,
      "outputs": [
        {
          "output_type": "stream",
          "text": [
            "005b2j4b\tMonophyletic Relationship between Severe Acute Respiratory Syndrome Coronavirus and Group 2 Coronaviruses\n",
            "00fmeepz\tComprehensive overview of COVID-19 based on current evidence\n",
            "010vptx3\tThe SARS, MERS and novel coronavirus (COVID-19) epidemics, the newest and biggest global health threats: what lessons have we learned?\n"
          ],
          "name": "stdout"
        }
      ]
    },
    {
      "cell_type": "markdown",
      "metadata": {
        "id": "DOm67Sbsvjon"
      },
      "source": [
        "And of course, you can do all sorts of fancy piping here as well. Let's find all highly-relevant documents for Query 50:"
      ]
    },
    {
      "cell_type": "code",
      "metadata": {
        "colab": {
          "base_uri": "https://localhost:8080/"
        },
        "id": "yVMHEFRXvLfh",
        "outputId": "e4ad1626-5057-40a3-c517-9cc12ad0052a"
      },
      "source": [
        "!ir_datasets lookup cord19/trec-covid $(ir_datasets export cord19/trec-covid qrels | awk '$1==50&&$4==2{printf \"%s \", $3}') --fields doc_id title"
      ],
      "execution_count": 10,
      "outputs": [
        {
          "output_type": "stream",
          "text": [
            "1v0f2dtx\tSARS-CoV-2 mRNA Vaccine Development Enabled by Prototype Pathogen Preparedness\n",
            "3a6l4ktt\tmRNA Vaccines: Possible Tools to Combat SARS-CoV-2\n",
            "6emy92i5\tmRNA Vaccines: Possible Tools to Combat SARS-CoV-2\n",
            "7q6xi2xx\tAn Evidence Based Perspective on mRNA-SARS-CoV-2 Vaccine Development\n",
            "akbq0ogs\tPhase 1/2 Study to Describe the Safety and Immunogenicity of a COVID-19 RNA Vaccine Candidate (BNT162b1) in Adults 18 to 55 Years of Age: Interim Report\n",
            "dcg6ui9d\tAn Evidence Based Perspective on mRNA-SARS-CoV-2 Vaccine Development\n",
            "g1j8wk11\tImmune-mediated approaches against COVID-19\n",
            "gidlrnu8\tDeconvoluting Lipid Nanoparticle Structure for Messenger RNA Delivery\n",
            "ino9srb6\tAn overview on COVID-19: reality and expectation\n",
            "kf7yz3oz\tVaccines and Therapies in Development for SARS-CoV-2 Infections.\n",
            "oiu80002\tSelf-amplifying RNA SARS-CoV-2 lipid nanoparticle vaccine candidate induces high neutralizing antibody titers in mice\n",
            "ozf05l65\tPreparing for Pandemics: RNA Vaccines at the Forefront\n",
            "q77da2y3\tDesigning a novel mRNA vaccine against SARS-CoV-2: An immunoinformatics approach\n",
            "u35rryzi\tVaccines and Therapies in Development for SARS-CoV-2 Infections\n",
            "v0m90h3n\tLinearDesign: Efficient Algorithms for Optimized mRNA Sequence Design\n",
            "vm3oirur\tPreclinical data from SARS-CoV-2 mRNA vaccine\n",
            "wptc95qb\tA recombinant Lactobacillus plantarum strain expressing the spike protein of SARS-CoV-2\n",
            "wtmjt3hf\tDevelopment of a COVID-19 vaccine based on the receptor binding domain displayed on virus-like particles\n",
            "wx1v0h0q\tDesigning a multi-epitope peptide-based vaccine against SARS-CoV-2\n",
            "wxagjqbt\tCOVID-19 Vaccine Candidates: Prediction and Validation of 174 SARS-CoV-2 Epitopes\n",
            "wzdgizoo\tQuantitative measurement of activity of JAK-STAT signaling pathways in blood samples and immune cells to predict innate and adaptive cellular immune response to viral infection and accelerate vaccine development\n",
            "wzv8n34v\tSingle-dose replicating RNA vaccine induces neutralizing antibodies against SARS-CoV-2 in nonhuman primates\n",
            "x5zvwtj7\tVaccines against Coronaviruses: The State of the Art\n",
            "xbze5s3c\tAn Evidence Based Perspective on mRNA-SARS-CoV-2 Vaccine Development\n",
            "xeq0dq6u\tSARS-CoV-2 will constantly sweep its tracks: a vaccine containing CpG motifs in ‘lasso’ for the multi-faced virus\n",
            "xhm97wy2\tRNA to the rescue: RNA is one of the most promising targets for drug development given its wide variety of uses\n",
            "xieqswct\tDevelopment of CRISPR as a prophylactic strategy to combat novel coronavirus and influenza\n",
            "xjg2e8be\tIn silico approach for designing of a multi-epitope based vaccine against novel Coronavirus (SARS-COV-2)\n",
            "xqgqq55q\tEmerging vaccine delivery systems for COVID-19: Functionalised silica nanoparticles offer a potentially safe and effective alternative delivery system for DNA/RNA vaccines and may be useful in the hunt for a COVID-19 vaccine\n",
            "xt8tld2i\tThe vaccine journey for COVID-19: a comprehensive systematic review of current clinical trials in humans\n",
            "xy7w8hbz\tCharacterization of the receptor-binding domain (RBD) of 2019 novel coronavirus: implication for development of RBD protein as a viral attachment inhibitor and vaccine\n",
            "y87tq9wu\tCurrent Status of Multiple Drug Molecules, and Vaccines: An Update in SARS-CoV-2 Therapeutics\n",
            "y883anmp\tSARS-CoV-2 vaccines: 'Warp Speed' needs mind melds not warped minds.\n",
            "ygwdldae\tImmunization with the receptor–binding domain of SARS-CoV-2 elicits antibodies cross-neutralizing SARS-CoV-2 and SARS-CoV without antibody-dependent enhancement\n",
            "ykzsoafe\tOptimization of antigen dose for a receptor-binding domain-based subunit vaccine against MERS coronavirus\n",
            "ymvrserl\tImmunoinformatic identification of B cell and T cell epitopes in the SARS-CoV-2 proteome\n",
            "yn79jn83\tAnalysis of a SARS-CoV-2-Infected Individual Reveals Development of Potent Neutralizing Antibodies with Limited Somatic Mutation\n",
            "yneir8ab\tCOVID-19 vaccine development pipeline gears up\n",
            "ypkiptvh\tUpdate on therapeutic approaches and emerging therapies for SARS-CoV-2 virus\n",
            "ys8cs84y\tExpected immune recognition of COVID-19 virus by memory from earlier infections with common coronaviruses in a large part of the world population\n",
            "ywia2ok7\tThe crystal structure of nsp10-nsp16 heterodimer from SARS-CoV-2 in complex with S-adenosylmethionine\n",
            "yx3j6373\tCOVID-19: immunopathology and its implications for therapy\n",
            "yxiacesg\tStructural and functional conservation of the programmed -1 ribosomal frameshift signal of SARS coronavirus 2 (SARS-CoV-2).\n",
            "z24dqh0y\tAnalysis of a SARS-CoV-2-Infected Individual Reveals Development of Potent Neutralizing Antibodies with Limited Somatic Mutation\n",
            "z5q82rmp\tGlobal efforts on vaccines for COVID-19: Since, sooner or later, we all will catch the coronavirus\n",
            "z5uhrta5\tIdentification of a Noncanonical Signal for Transcription of a Novel Subgenomic mRNA of Mouse Hepatitis Virus: Implication for the Mechanism of Coronavirus RNA Transcription\n",
            "zalk5ul7\tAre genetic vaccines the right weapon against Covid-19?\n",
            "zi1l5883\tVaccines against Coronaviruses: The State of the Art.\n",
            "zteyfpv9\tCurrent pharmacological treatments for SARS-COV-2: A narrative review\n",
            "zv4nbz9p\tEmerging Technologies for Use in the Study, Diagnosis, and Treatment of Patients with COVID-19\n",
            "zvop8bxh\tAntiviral RNAi therapy: emerging approaches for hitting a moving target\n"
          ],
          "name": "stdout"
        }
      ]
    },
    {
      "cell_type": "markdown",
      "metadata": {
        "id": "h9dhCjb0y4Rj"
      },
      "source": [
        "## doc_fifos\n",
        "\n",
        "For indexing using some tools (e.g., Anserini), it is helpful to have multiple concurrent document streams. You can do this with the `ir_datasets doc_fifos` command. Note that this command only works on posix systems (e.g., unix, macos).\n",
        "\n",
        "This command runs until all the documents are exhausted, so you need to run it in the background or elsewhere. So it's not condusive to show in a Colab setting."
      ]
    },
    {
      "cell_type": "code",
      "metadata": {
        "id": "YGKeucnFzFOW"
      },
      "source": [
        "!ir_datasets doc_fifos cord19/trec-covid"
      ],
      "execution_count": null,
      "outputs": []
    }
  ]
}